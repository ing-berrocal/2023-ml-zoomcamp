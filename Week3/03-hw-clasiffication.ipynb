{
 "cells": [
  {
   "cell_type": "code",
   "execution_count": 303,
   "id": "6d737981",
   "metadata": {},
   "outputs": [],
   "source": [
    "import pandas as pd\n",
    "import numpy as np\n",
    "\n",
    "import seaborn as sns\n",
    "from matplotlib import pyplot as plt\n",
    "%matplotlib inline"
   ]
  },
  {
   "cell_type": "code",
   "execution_count": 304,
   "id": "83630ad0",
   "metadata": {},
   "outputs": [],
   "source": [
    "df = pd.read_csv('../data/01_data.csv')"
   ]
  },
  {
   "cell_type": "code",
   "execution_count": 305,
   "id": "e0b35b1b",
   "metadata": {},
   "outputs": [
    {
     "data": {
      "text/plain": [
       "(11914, 16)"
      ]
     },
     "execution_count": 305,
     "metadata": {},
     "output_type": "execute_result"
    }
   ],
   "source": [
    "df.shape"
   ]
  },
  {
   "cell_type": "code",
   "execution_count": 306,
   "id": "6cf967aa",
   "metadata": {},
   "outputs": [
    {
     "name": "stdout",
     "output_type": "stream",
     "text": [
      "<class 'pandas.core.frame.DataFrame'>\n",
      "RangeIndex: 11914 entries, 0 to 11913\n",
      "Data columns (total 16 columns):\n",
      " #   Column             Non-Null Count  Dtype  \n",
      "---  ------             --------------  -----  \n",
      " 0   Make               11914 non-null  object \n",
      " 1   Model              11914 non-null  object \n",
      " 2   Year               11914 non-null  int64  \n",
      " 3   Engine Fuel Type   11911 non-null  object \n",
      " 4   Engine HP          11845 non-null  float64\n",
      " 5   Engine Cylinders   11884 non-null  float64\n",
      " 6   Transmission Type  11914 non-null  object \n",
      " 7   Driven_Wheels      11914 non-null  object \n",
      " 8   Number of Doors    11908 non-null  float64\n",
      " 9   Market Category    8172 non-null   object \n",
      " 10  Vehicle Size       11914 non-null  object \n",
      " 11  Vehicle Style      11914 non-null  object \n",
      " 12  highway MPG        11914 non-null  int64  \n",
      " 13  city mpg           11914 non-null  int64  \n",
      " 14  Popularity         11914 non-null  int64  \n",
      " 15  MSRP               11914 non-null  int64  \n",
      "dtypes: float64(3), int64(5), object(8)\n",
      "memory usage: 1.5+ MB\n"
     ]
    }
   ],
   "source": [
    "df.info()"
   ]
  },
  {
   "cell_type": "code",
   "execution_count": 307,
   "id": "821d039c",
   "metadata": {},
   "outputs": [
    {
     "data": {
      "text/html": [
       "<div>\n",
       "<style scoped>\n",
       "    .dataframe tbody tr th:only-of-type {\n",
       "        vertical-align: middle;\n",
       "    }\n",
       "\n",
       "    .dataframe tbody tr th {\n",
       "        vertical-align: top;\n",
       "    }\n",
       "\n",
       "    .dataframe thead th {\n",
       "        text-align: right;\n",
       "    }\n",
       "</style>\n",
       "<table border=\"1\" class=\"dataframe\">\n",
       "  <thead>\n",
       "    <tr style=\"text-align: right;\">\n",
       "      <th></th>\n",
       "      <th>Make</th>\n",
       "      <th>Model</th>\n",
       "      <th>Year</th>\n",
       "      <th>Engine Fuel Type</th>\n",
       "      <th>Engine HP</th>\n",
       "      <th>Engine Cylinders</th>\n",
       "      <th>Transmission Type</th>\n",
       "      <th>Driven_Wheels</th>\n",
       "      <th>Number of Doors</th>\n",
       "      <th>Market Category</th>\n",
       "      <th>Vehicle Size</th>\n",
       "      <th>Vehicle Style</th>\n",
       "      <th>highway MPG</th>\n",
       "      <th>city mpg</th>\n",
       "      <th>Popularity</th>\n",
       "      <th>MSRP</th>\n",
       "    </tr>\n",
       "  </thead>\n",
       "  <tbody>\n",
       "    <tr>\n",
       "      <th>0</th>\n",
       "      <td>BMW</td>\n",
       "      <td>1 Series M</td>\n",
       "      <td>2011</td>\n",
       "      <td>premium unleaded (required)</td>\n",
       "      <td>335.0</td>\n",
       "      <td>6.0</td>\n",
       "      <td>MANUAL</td>\n",
       "      <td>rear wheel drive</td>\n",
       "      <td>2.0</td>\n",
       "      <td>Factory Tuner,Luxury,High-Performance</td>\n",
       "      <td>Compact</td>\n",
       "      <td>Coupe</td>\n",
       "      <td>26</td>\n",
       "      <td>19</td>\n",
       "      <td>3916</td>\n",
       "      <td>46135</td>\n",
       "    </tr>\n",
       "    <tr>\n",
       "      <th>1</th>\n",
       "      <td>BMW</td>\n",
       "      <td>1 Series</td>\n",
       "      <td>2011</td>\n",
       "      <td>premium unleaded (required)</td>\n",
       "      <td>300.0</td>\n",
       "      <td>6.0</td>\n",
       "      <td>MANUAL</td>\n",
       "      <td>rear wheel drive</td>\n",
       "      <td>2.0</td>\n",
       "      <td>Luxury,Performance</td>\n",
       "      <td>Compact</td>\n",
       "      <td>Convertible</td>\n",
       "      <td>28</td>\n",
       "      <td>19</td>\n",
       "      <td>3916</td>\n",
       "      <td>40650</td>\n",
       "    </tr>\n",
       "    <tr>\n",
       "      <th>2</th>\n",
       "      <td>BMW</td>\n",
       "      <td>1 Series</td>\n",
       "      <td>2011</td>\n",
       "      <td>premium unleaded (required)</td>\n",
       "      <td>300.0</td>\n",
       "      <td>6.0</td>\n",
       "      <td>MANUAL</td>\n",
       "      <td>rear wheel drive</td>\n",
       "      <td>2.0</td>\n",
       "      <td>Luxury,High-Performance</td>\n",
       "      <td>Compact</td>\n",
       "      <td>Coupe</td>\n",
       "      <td>28</td>\n",
       "      <td>20</td>\n",
       "      <td>3916</td>\n",
       "      <td>36350</td>\n",
       "    </tr>\n",
       "    <tr>\n",
       "      <th>3</th>\n",
       "      <td>BMW</td>\n",
       "      <td>1 Series</td>\n",
       "      <td>2011</td>\n",
       "      <td>premium unleaded (required)</td>\n",
       "      <td>230.0</td>\n",
       "      <td>6.0</td>\n",
       "      <td>MANUAL</td>\n",
       "      <td>rear wheel drive</td>\n",
       "      <td>2.0</td>\n",
       "      <td>Luxury,Performance</td>\n",
       "      <td>Compact</td>\n",
       "      <td>Coupe</td>\n",
       "      <td>28</td>\n",
       "      <td>18</td>\n",
       "      <td>3916</td>\n",
       "      <td>29450</td>\n",
       "    </tr>\n",
       "    <tr>\n",
       "      <th>4</th>\n",
       "      <td>BMW</td>\n",
       "      <td>1 Series</td>\n",
       "      <td>2011</td>\n",
       "      <td>premium unleaded (required)</td>\n",
       "      <td>230.0</td>\n",
       "      <td>6.0</td>\n",
       "      <td>MANUAL</td>\n",
       "      <td>rear wheel drive</td>\n",
       "      <td>2.0</td>\n",
       "      <td>Luxury</td>\n",
       "      <td>Compact</td>\n",
       "      <td>Convertible</td>\n",
       "      <td>28</td>\n",
       "      <td>18</td>\n",
       "      <td>3916</td>\n",
       "      <td>34500</td>\n",
       "    </tr>\n",
       "  </tbody>\n",
       "</table>\n",
       "</div>"
      ],
      "text/plain": [
       "  Make       Model  Year             Engine Fuel Type  Engine HP  \\\n",
       "0  BMW  1 Series M  2011  premium unleaded (required)      335.0   \n",
       "1  BMW    1 Series  2011  premium unleaded (required)      300.0   \n",
       "2  BMW    1 Series  2011  premium unleaded (required)      300.0   \n",
       "3  BMW    1 Series  2011  premium unleaded (required)      230.0   \n",
       "4  BMW    1 Series  2011  premium unleaded (required)      230.0   \n",
       "\n",
       "   Engine Cylinders Transmission Type     Driven_Wheels  Number of Doors  \\\n",
       "0               6.0            MANUAL  rear wheel drive              2.0   \n",
       "1               6.0            MANUAL  rear wheel drive              2.0   \n",
       "2               6.0            MANUAL  rear wheel drive              2.0   \n",
       "3               6.0            MANUAL  rear wheel drive              2.0   \n",
       "4               6.0            MANUAL  rear wheel drive              2.0   \n",
       "\n",
       "                         Market Category Vehicle Size Vehicle Style  \\\n",
       "0  Factory Tuner,Luxury,High-Performance      Compact         Coupe   \n",
       "1                     Luxury,Performance      Compact   Convertible   \n",
       "2                Luxury,High-Performance      Compact         Coupe   \n",
       "3                     Luxury,Performance      Compact         Coupe   \n",
       "4                                 Luxury      Compact   Convertible   \n",
       "\n",
       "   highway MPG  city mpg  Popularity   MSRP  \n",
       "0           26        19        3916  46135  \n",
       "1           28        19        3916  40650  \n",
       "2           28        20        3916  36350  \n",
       "3           28        18        3916  29450  \n",
       "4           28        18        3916  34500  "
      ]
     },
     "execution_count": 307,
     "metadata": {},
     "output_type": "execute_result"
    }
   ],
   "source": [
    "df.head()"
   ]
  },
  {
   "cell_type": "code",
   "execution_count": 308,
   "id": "4c9c4ee4",
   "metadata": {},
   "outputs": [
    {
     "data": {
      "text/html": [
       "<div>\n",
       "<style scoped>\n",
       "    .dataframe tbody tr th:only-of-type {\n",
       "        vertical-align: middle;\n",
       "    }\n",
       "\n",
       "    .dataframe tbody tr th {\n",
       "        vertical-align: top;\n",
       "    }\n",
       "\n",
       "    .dataframe thead th {\n",
       "        text-align: right;\n",
       "    }\n",
       "</style>\n",
       "<table border=\"1\" class=\"dataframe\">\n",
       "  <thead>\n",
       "    <tr style=\"text-align: right;\">\n",
       "      <th></th>\n",
       "      <th>0</th>\n",
       "      <th>1</th>\n",
       "      <th>2</th>\n",
       "      <th>3</th>\n",
       "      <th>4</th>\n",
       "    </tr>\n",
       "  </thead>\n",
       "  <tbody>\n",
       "    <tr>\n",
       "      <th>Make</th>\n",
       "      <td>BMW</td>\n",
       "      <td>BMW</td>\n",
       "      <td>BMW</td>\n",
       "      <td>BMW</td>\n",
       "      <td>BMW</td>\n",
       "    </tr>\n",
       "    <tr>\n",
       "      <th>Model</th>\n",
       "      <td>1 Series M</td>\n",
       "      <td>1 Series</td>\n",
       "      <td>1 Series</td>\n",
       "      <td>1 Series</td>\n",
       "      <td>1 Series</td>\n",
       "    </tr>\n",
       "    <tr>\n",
       "      <th>Year</th>\n",
       "      <td>2011</td>\n",
       "      <td>2011</td>\n",
       "      <td>2011</td>\n",
       "      <td>2011</td>\n",
       "      <td>2011</td>\n",
       "    </tr>\n",
       "    <tr>\n",
       "      <th>Engine Fuel Type</th>\n",
       "      <td>premium unleaded (required)</td>\n",
       "      <td>premium unleaded (required)</td>\n",
       "      <td>premium unleaded (required)</td>\n",
       "      <td>premium unleaded (required)</td>\n",
       "      <td>premium unleaded (required)</td>\n",
       "    </tr>\n",
       "    <tr>\n",
       "      <th>Engine HP</th>\n",
       "      <td>335.0</td>\n",
       "      <td>300.0</td>\n",
       "      <td>300.0</td>\n",
       "      <td>230.0</td>\n",
       "      <td>230.0</td>\n",
       "    </tr>\n",
       "    <tr>\n",
       "      <th>Engine Cylinders</th>\n",
       "      <td>6.0</td>\n",
       "      <td>6.0</td>\n",
       "      <td>6.0</td>\n",
       "      <td>6.0</td>\n",
       "      <td>6.0</td>\n",
       "    </tr>\n",
       "    <tr>\n",
       "      <th>Transmission Type</th>\n",
       "      <td>MANUAL</td>\n",
       "      <td>MANUAL</td>\n",
       "      <td>MANUAL</td>\n",
       "      <td>MANUAL</td>\n",
       "      <td>MANUAL</td>\n",
       "    </tr>\n",
       "    <tr>\n",
       "      <th>Driven_Wheels</th>\n",
       "      <td>rear wheel drive</td>\n",
       "      <td>rear wheel drive</td>\n",
       "      <td>rear wheel drive</td>\n",
       "      <td>rear wheel drive</td>\n",
       "      <td>rear wheel drive</td>\n",
       "    </tr>\n",
       "    <tr>\n",
       "      <th>Number of Doors</th>\n",
       "      <td>2.0</td>\n",
       "      <td>2.0</td>\n",
       "      <td>2.0</td>\n",
       "      <td>2.0</td>\n",
       "      <td>2.0</td>\n",
       "    </tr>\n",
       "    <tr>\n",
       "      <th>Market Category</th>\n",
       "      <td>Factory Tuner,Luxury,High-Performance</td>\n",
       "      <td>Luxury,Performance</td>\n",
       "      <td>Luxury,High-Performance</td>\n",
       "      <td>Luxury,Performance</td>\n",
       "      <td>Luxury</td>\n",
       "    </tr>\n",
       "    <tr>\n",
       "      <th>Vehicle Size</th>\n",
       "      <td>Compact</td>\n",
       "      <td>Compact</td>\n",
       "      <td>Compact</td>\n",
       "      <td>Compact</td>\n",
       "      <td>Compact</td>\n",
       "    </tr>\n",
       "    <tr>\n",
       "      <th>Vehicle Style</th>\n",
       "      <td>Coupe</td>\n",
       "      <td>Convertible</td>\n",
       "      <td>Coupe</td>\n",
       "      <td>Coupe</td>\n",
       "      <td>Convertible</td>\n",
       "    </tr>\n",
       "    <tr>\n",
       "      <th>highway MPG</th>\n",
       "      <td>26</td>\n",
       "      <td>28</td>\n",
       "      <td>28</td>\n",
       "      <td>28</td>\n",
       "      <td>28</td>\n",
       "    </tr>\n",
       "    <tr>\n",
       "      <th>city mpg</th>\n",
       "      <td>19</td>\n",
       "      <td>19</td>\n",
       "      <td>20</td>\n",
       "      <td>18</td>\n",
       "      <td>18</td>\n",
       "    </tr>\n",
       "    <tr>\n",
       "      <th>Popularity</th>\n",
       "      <td>3916</td>\n",
       "      <td>3916</td>\n",
       "      <td>3916</td>\n",
       "      <td>3916</td>\n",
       "      <td>3916</td>\n",
       "    </tr>\n",
       "    <tr>\n",
       "      <th>MSRP</th>\n",
       "      <td>46135</td>\n",
       "      <td>40650</td>\n",
       "      <td>36350</td>\n",
       "      <td>29450</td>\n",
       "      <td>34500</td>\n",
       "    </tr>\n",
       "  </tbody>\n",
       "</table>\n",
       "</div>"
      ],
      "text/plain": [
       "                                                       0  \\\n",
       "Make                                                 BMW   \n",
       "Model                                         1 Series M   \n",
       "Year                                                2011   \n",
       "Engine Fuel Type             premium unleaded (required)   \n",
       "Engine HP                                          335.0   \n",
       "Engine Cylinders                                     6.0   \n",
       "Transmission Type                                 MANUAL   \n",
       "Driven_Wheels                           rear wheel drive   \n",
       "Number of Doors                                      2.0   \n",
       "Market Category    Factory Tuner,Luxury,High-Performance   \n",
       "Vehicle Size                                     Compact   \n",
       "Vehicle Style                                      Coupe   \n",
       "highway MPG                                           26   \n",
       "city mpg                                              19   \n",
       "Popularity                                          3916   \n",
       "MSRP                                               46135   \n",
       "\n",
       "                                             1                            2  \\\n",
       "Make                                       BMW                          BMW   \n",
       "Model                                 1 Series                     1 Series   \n",
       "Year                                      2011                         2011   \n",
       "Engine Fuel Type   premium unleaded (required)  premium unleaded (required)   \n",
       "Engine HP                                300.0                        300.0   \n",
       "Engine Cylinders                           6.0                          6.0   \n",
       "Transmission Type                       MANUAL                       MANUAL   \n",
       "Driven_Wheels                 rear wheel drive             rear wheel drive   \n",
       "Number of Doors                            2.0                          2.0   \n",
       "Market Category             Luxury,Performance      Luxury,High-Performance   \n",
       "Vehicle Size                           Compact                      Compact   \n",
       "Vehicle Style                      Convertible                        Coupe   \n",
       "highway MPG                                 28                           28   \n",
       "city mpg                                    19                           20   \n",
       "Popularity                                3916                         3916   \n",
       "MSRP                                     40650                        36350   \n",
       "\n",
       "                                             3                            4  \n",
       "Make                                       BMW                          BMW  \n",
       "Model                                 1 Series                     1 Series  \n",
       "Year                                      2011                         2011  \n",
       "Engine Fuel Type   premium unleaded (required)  premium unleaded (required)  \n",
       "Engine HP                                230.0                        230.0  \n",
       "Engine Cylinders                           6.0                          6.0  \n",
       "Transmission Type                       MANUAL                       MANUAL  \n",
       "Driven_Wheels                 rear wheel drive             rear wheel drive  \n",
       "Number of Doors                            2.0                          2.0  \n",
       "Market Category             Luxury,Performance                       Luxury  \n",
       "Vehicle Size                           Compact                      Compact  \n",
       "Vehicle Style                            Coupe                  Convertible  \n",
       "highway MPG                                 28                           28  \n",
       "city mpg                                    18                           18  \n",
       "Popularity                                3916                         3916  \n",
       "MSRP                                     29450                        34500  "
      ]
     },
     "execution_count": 308,
     "metadata": {},
     "output_type": "execute_result"
    }
   ],
   "source": [
    "df.head().T"
   ]
  },
  {
   "cell_type": "code",
   "execution_count": 309,
   "id": "b8d23261",
   "metadata": {},
   "outputs": [],
   "source": [
    "df.columns = df.columns.str.replace(' ','_').str.lower()"
   ]
  },
  {
   "cell_type": "code",
   "execution_count": 310,
   "id": "3d4237bb",
   "metadata": {},
   "outputs": [],
   "source": [
    "selected_columns = ['make','model','year','engine_hp','engine_cylinders','transmission_type','vehicle_style','highway_mpg','city_mpg']"
   ]
  },
  {
   "cell_type": "code",
   "execution_count": 311,
   "id": "0e1a2953",
   "metadata": {},
   "outputs": [],
   "source": [
    "#df[selected_columns].fillna(0,inplace=True)\n",
    "df.engine_cylinders = df.engine_cylinders.fillna(0)\n",
    "df.engine_hp = df.engine_hp.fillna(0)"
   ]
  },
  {
   "cell_type": "code",
   "execution_count": 312,
   "id": "c6ac5af2",
   "metadata": {},
   "outputs": [
    {
     "data": {
      "text/plain": [
       "make                    0\n",
       "model                   0\n",
       "year                    0\n",
       "engine_fuel_type        3\n",
       "engine_hp               0\n",
       "engine_cylinders        0\n",
       "transmission_type       0\n",
       "driven_wheels           0\n",
       "number_of_doors         6\n",
       "market_category      3742\n",
       "vehicle_size            0\n",
       "vehicle_style           0\n",
       "highway_mpg             0\n",
       "city_mpg                0\n",
       "popularity              0\n",
       "msrp                    0\n",
       "dtype: int64"
      ]
     },
     "execution_count": 312,
     "metadata": {},
     "output_type": "execute_result"
    }
   ],
   "source": [
    "df.isna().sum()"
   ]
  },
  {
   "cell_type": "code",
   "execution_count": 313,
   "id": "697d2f0e",
   "metadata": {},
   "outputs": [
    {
     "data": {
      "text/plain": [
       "Index(['make', 'model', 'year', 'engine_fuel_type', 'engine_hp',\n",
       "       'engine_cylinders', 'transmission_type', 'driven_wheels',\n",
       "       'number_of_doors', 'market_category', 'vehicle_size', 'vehicle_style',\n",
       "       'highway_mpg', 'city_mpg', 'popularity', 'msrp'],\n",
       "      dtype='object')"
      ]
     },
     "execution_count": 313,
     "metadata": {},
     "output_type": "execute_result"
    }
   ],
   "source": [
    "df.columns"
   ]
  },
  {
   "cell_type": "code",
   "execution_count": 314,
   "id": "56b61140",
   "metadata": {},
   "outputs": [],
   "source": [
    "df.rename(columns={\"msrp\": \"price\"},inplace=True)"
   ]
  },
  {
   "cell_type": "code",
   "execution_count": 315,
   "id": "636ca37e",
   "metadata": {},
   "outputs": [
    {
     "data": {
      "text/plain": [
       "Index(['make', 'model', 'year', 'engine_fuel_type', 'engine_hp',\n",
       "       'engine_cylinders', 'transmission_type', 'driven_wheels',\n",
       "       'number_of_doors', 'market_category', 'vehicle_size', 'vehicle_style',\n",
       "       'highway_mpg', 'city_mpg', 'popularity', 'price'],\n",
       "      dtype='object')"
      ]
     },
     "execution_count": 315,
     "metadata": {},
     "output_type": "execute_result"
    }
   ],
   "source": [
    "df.columns"
   ]
  },
  {
   "cell_type": "code",
   "execution_count": 316,
   "id": "25ad9a3e",
   "metadata": {},
   "outputs": [
    {
     "data": {
      "text/plain": [
       "AUTOMATIC           8266\n",
       "MANUAL              2935\n",
       "AUTOMATED_MANUAL     626\n",
       "DIRECT_DRIVE          68\n",
       "UNKNOWN               19\n",
       "Name: transmission_type, dtype: int64"
      ]
     },
     "execution_count": 316,
     "metadata": {},
     "output_type": "execute_result"
    }
   ],
   "source": [
    "df['transmission_type'].value_counts()"
   ]
  },
  {
   "cell_type": "markdown",
   "id": "bbcf99e7",
   "metadata": {},
   "source": [
    "### Answer 1: AUTOMATIC           "
   ]
  },
  {
   "cell_type": "code",
   "execution_count": 317,
   "id": "def9a4c1",
   "metadata": {},
   "outputs": [
    {
     "data": {
      "text/plain": [
       "year                0.338714\n",
       "engine_cylinders    0.774851\n",
       "engine_hp           1.000000\n",
       "dtype: float64"
      ]
     },
     "execution_count": 317,
     "metadata": {},
     "output_type": "execute_result"
    }
   ],
   "source": [
    "df[['year','engine_cylinders','engine_hp']].corrwith(df.engine_hp)"
   ]
  },
  {
   "cell_type": "code",
   "execution_count": 318,
   "id": "ca6b5cc7",
   "metadata": {
    "scrolled": true
   },
   "outputs": [
    {
     "data": {
      "text/plain": [
       "engine_cylinders   -0.614541\n",
       "city_mpg            0.886829\n",
       "highway_mpg         1.000000\n",
       "dtype: float64"
      ]
     },
     "execution_count": 318,
     "metadata": {},
     "output_type": "execute_result"
    }
   ],
   "source": [
    "df[['engine_cylinders','city_mpg','highway_mpg']].corrwith(df.highway_mpg )"
   ]
  },
  {
   "cell_type": "markdown",
   "id": "e4cb652d",
   "metadata": {},
   "source": [
    "### Answer 2: city_mpg, highway_mpg"
   ]
  },
  {
   "cell_type": "code",
   "execution_count": 319,
   "id": "f7dc19f4",
   "metadata": {},
   "outputs": [
    {
     "data": {
      "text/plain": [
       "count      11914.000\n",
       "mean       40594.737\n",
       "std        60109.104\n",
       "min         2000.000\n",
       "25%        21000.000\n",
       "50%        29995.000\n",
       "75%        42231.250\n",
       "max      2065902.000\n",
       "Name: price, dtype: float64"
      ]
     },
     "execution_count": 319,
     "metadata": {},
     "output_type": "execute_result"
    }
   ],
   "source": [
    "df['price'].describe().round(3)"
   ]
  },
  {
   "cell_type": "code",
   "execution_count": 320,
   "id": "0f6468a9",
   "metadata": {},
   "outputs": [],
   "source": [
    "df['price_above_average'] = (df.price>=df.price.mean()).astype(int)"
   ]
  },
  {
   "cell_type": "code",
   "execution_count": 321,
   "id": "829ab5d5",
   "metadata": {},
   "outputs": [
    {
     "data": {
      "text/html": [
       "<div>\n",
       "<style scoped>\n",
       "    .dataframe tbody tr th:only-of-type {\n",
       "        vertical-align: middle;\n",
       "    }\n",
       "\n",
       "    .dataframe tbody tr th {\n",
       "        vertical-align: top;\n",
       "    }\n",
       "\n",
       "    .dataframe thead th {\n",
       "        text-align: right;\n",
       "    }\n",
       "</style>\n",
       "<table border=\"1\" class=\"dataframe\">\n",
       "  <thead>\n",
       "    <tr style=\"text-align: right;\">\n",
       "      <th></th>\n",
       "      <th>make</th>\n",
       "      <th>model</th>\n",
       "      <th>year</th>\n",
       "      <th>engine_fuel_type</th>\n",
       "      <th>engine_hp</th>\n",
       "      <th>engine_cylinders</th>\n",
       "      <th>transmission_type</th>\n",
       "      <th>driven_wheels</th>\n",
       "      <th>number_of_doors</th>\n",
       "      <th>market_category</th>\n",
       "      <th>vehicle_size</th>\n",
       "      <th>vehicle_style</th>\n",
       "      <th>highway_mpg</th>\n",
       "      <th>city_mpg</th>\n",
       "      <th>popularity</th>\n",
       "      <th>price</th>\n",
       "      <th>price_above_average</th>\n",
       "    </tr>\n",
       "  </thead>\n",
       "  <tbody>\n",
       "    <tr>\n",
       "      <th>0</th>\n",
       "      <td>BMW</td>\n",
       "      <td>1 Series M</td>\n",
       "      <td>2011</td>\n",
       "      <td>premium unleaded (required)</td>\n",
       "      <td>335.0</td>\n",
       "      <td>6.0</td>\n",
       "      <td>MANUAL</td>\n",
       "      <td>rear wheel drive</td>\n",
       "      <td>2.0</td>\n",
       "      <td>Factory Tuner,Luxury,High-Performance</td>\n",
       "      <td>Compact</td>\n",
       "      <td>Coupe</td>\n",
       "      <td>26</td>\n",
       "      <td>19</td>\n",
       "      <td>3916</td>\n",
       "      <td>46135</td>\n",
       "      <td>1</td>\n",
       "    </tr>\n",
       "    <tr>\n",
       "      <th>1</th>\n",
       "      <td>BMW</td>\n",
       "      <td>1 Series</td>\n",
       "      <td>2011</td>\n",
       "      <td>premium unleaded (required)</td>\n",
       "      <td>300.0</td>\n",
       "      <td>6.0</td>\n",
       "      <td>MANUAL</td>\n",
       "      <td>rear wheel drive</td>\n",
       "      <td>2.0</td>\n",
       "      <td>Luxury,Performance</td>\n",
       "      <td>Compact</td>\n",
       "      <td>Convertible</td>\n",
       "      <td>28</td>\n",
       "      <td>19</td>\n",
       "      <td>3916</td>\n",
       "      <td>40650</td>\n",
       "      <td>1</td>\n",
       "    </tr>\n",
       "    <tr>\n",
       "      <th>2</th>\n",
       "      <td>BMW</td>\n",
       "      <td>1 Series</td>\n",
       "      <td>2011</td>\n",
       "      <td>premium unleaded (required)</td>\n",
       "      <td>300.0</td>\n",
       "      <td>6.0</td>\n",
       "      <td>MANUAL</td>\n",
       "      <td>rear wheel drive</td>\n",
       "      <td>2.0</td>\n",
       "      <td>Luxury,High-Performance</td>\n",
       "      <td>Compact</td>\n",
       "      <td>Coupe</td>\n",
       "      <td>28</td>\n",
       "      <td>20</td>\n",
       "      <td>3916</td>\n",
       "      <td>36350</td>\n",
       "      <td>0</td>\n",
       "    </tr>\n",
       "    <tr>\n",
       "      <th>3</th>\n",
       "      <td>BMW</td>\n",
       "      <td>1 Series</td>\n",
       "      <td>2011</td>\n",
       "      <td>premium unleaded (required)</td>\n",
       "      <td>230.0</td>\n",
       "      <td>6.0</td>\n",
       "      <td>MANUAL</td>\n",
       "      <td>rear wheel drive</td>\n",
       "      <td>2.0</td>\n",
       "      <td>Luxury,Performance</td>\n",
       "      <td>Compact</td>\n",
       "      <td>Coupe</td>\n",
       "      <td>28</td>\n",
       "      <td>18</td>\n",
       "      <td>3916</td>\n",
       "      <td>29450</td>\n",
       "      <td>0</td>\n",
       "    </tr>\n",
       "    <tr>\n",
       "      <th>4</th>\n",
       "      <td>BMW</td>\n",
       "      <td>1 Series</td>\n",
       "      <td>2011</td>\n",
       "      <td>premium unleaded (required)</td>\n",
       "      <td>230.0</td>\n",
       "      <td>6.0</td>\n",
       "      <td>MANUAL</td>\n",
       "      <td>rear wheel drive</td>\n",
       "      <td>2.0</td>\n",
       "      <td>Luxury</td>\n",
       "      <td>Compact</td>\n",
       "      <td>Convertible</td>\n",
       "      <td>28</td>\n",
       "      <td>18</td>\n",
       "      <td>3916</td>\n",
       "      <td>34500</td>\n",
       "      <td>0</td>\n",
       "    </tr>\n",
       "  </tbody>\n",
       "</table>\n",
       "</div>"
      ],
      "text/plain": [
       "  make       model  year             engine_fuel_type  engine_hp  \\\n",
       "0  BMW  1 Series M  2011  premium unleaded (required)      335.0   \n",
       "1  BMW    1 Series  2011  premium unleaded (required)      300.0   \n",
       "2  BMW    1 Series  2011  premium unleaded (required)      300.0   \n",
       "3  BMW    1 Series  2011  premium unleaded (required)      230.0   \n",
       "4  BMW    1 Series  2011  premium unleaded (required)      230.0   \n",
       "\n",
       "   engine_cylinders transmission_type     driven_wheels  number_of_doors  \\\n",
       "0               6.0            MANUAL  rear wheel drive              2.0   \n",
       "1               6.0            MANUAL  rear wheel drive              2.0   \n",
       "2               6.0            MANUAL  rear wheel drive              2.0   \n",
       "3               6.0            MANUAL  rear wheel drive              2.0   \n",
       "4               6.0            MANUAL  rear wheel drive              2.0   \n",
       "\n",
       "                         market_category vehicle_size vehicle_style  \\\n",
       "0  Factory Tuner,Luxury,High-Performance      Compact         Coupe   \n",
       "1                     Luxury,Performance      Compact   Convertible   \n",
       "2                Luxury,High-Performance      Compact         Coupe   \n",
       "3                     Luxury,Performance      Compact         Coupe   \n",
       "4                                 Luxury      Compact   Convertible   \n",
       "\n",
       "   highway_mpg  city_mpg  popularity  price  price_above_average  \n",
       "0           26        19        3916  46135                    1  \n",
       "1           28        19        3916  40650                    1  \n",
       "2           28        20        3916  36350                    0  \n",
       "3           28        18        3916  29450                    0  \n",
       "4           28        18        3916  34500                    0  "
      ]
     },
     "execution_count": 321,
     "metadata": {},
     "output_type": "execute_result"
    }
   ],
   "source": [
    "df.head()"
   ]
  },
  {
   "cell_type": "code",
   "execution_count": 322,
   "id": "4ee3d2b7",
   "metadata": {},
   "outputs": [],
   "source": [
    "from sklearn.model_selection import train_test_split"
   ]
  },
  {
   "cell_type": "code",
   "execution_count": 359,
   "id": "a5a3357c",
   "metadata": {},
   "outputs": [],
   "source": [
    "df_train_full, df_test = train_test_split(df, test_size=0.2, random_state=42)"
   ]
  },
  {
   "cell_type": "code",
   "execution_count": 360,
   "id": "f978c02d",
   "metadata": {},
   "outputs": [],
   "source": [
    "df_train, df_val = train_test_split(df_train_full, test_size=0.33, random_state=42)"
   ]
  },
  {
   "cell_type": "code",
   "execution_count": 361,
   "id": "06dd122f",
   "metadata": {},
   "outputs": [],
   "source": [
    "y_train = df_train['price_above_average']\n",
    "y_val = df_val['price_above_average']\n",
    "y_test = df_test['price_above_average']"
   ]
  },
  {
   "cell_type": "code",
   "execution_count": 362,
   "id": "26fcf766",
   "metadata": {},
   "outputs": [],
   "source": [
    "del df_train['price_above_average']\n",
    "del df_val['price_above_average']\n",
    "del df_test['price_above_average']"
   ]
  },
  {
   "cell_type": "code",
   "execution_count": 363,
   "id": "fadd06bc",
   "metadata": {},
   "outputs": [],
   "source": [
    "df_train = df_train[selected_columns].copy()\n",
    "df_val  = df_val[selected_columns].copy()\n",
    "df_test  = df_val[selected_columns].copy()"
   ]
  },
  {
   "cell_type": "code",
   "execution_count": 364,
   "id": "efa6d220",
   "metadata": {},
   "outputs": [
    {
     "data": {
      "text/html": [
       "<div>\n",
       "<style scoped>\n",
       "    .dataframe tbody tr th:only-of-type {\n",
       "        vertical-align: middle;\n",
       "    }\n",
       "\n",
       "    .dataframe tbody tr th {\n",
       "        vertical-align: top;\n",
       "    }\n",
       "\n",
       "    .dataframe thead th {\n",
       "        text-align: right;\n",
       "    }\n",
       "</style>\n",
       "<table border=\"1\" class=\"dataframe\">\n",
       "  <thead>\n",
       "    <tr style=\"text-align: right;\">\n",
       "      <th></th>\n",
       "      <th>make</th>\n",
       "      <th>model</th>\n",
       "      <th>year</th>\n",
       "      <th>engine_hp</th>\n",
       "      <th>engine_cylinders</th>\n",
       "      <th>transmission_type</th>\n",
       "      <th>vehicle_style</th>\n",
       "      <th>highway_mpg</th>\n",
       "      <th>city_mpg</th>\n",
       "    </tr>\n",
       "  </thead>\n",
       "  <tbody>\n",
       "    <tr>\n",
       "      <th>2575</th>\n",
       "      <td>Honda</td>\n",
       "      <td>Civic</td>\n",
       "      <td>2016</td>\n",
       "      <td>174.0</td>\n",
       "      <td>4.0</td>\n",
       "      <td>AUTOMATIC</td>\n",
       "      <td>Sedan</td>\n",
       "      <td>42</td>\n",
       "      <td>31</td>\n",
       "    </tr>\n",
       "    <tr>\n",
       "      <th>3794</th>\n",
       "      <td>Ford</td>\n",
       "      <td>Edge</td>\n",
       "      <td>2015</td>\n",
       "      <td>245.0</td>\n",
       "      <td>4.0</td>\n",
       "      <td>AUTOMATIC</td>\n",
       "      <td>4dr SUV</td>\n",
       "      <td>30</td>\n",
       "      <td>20</td>\n",
       "    </tr>\n",
       "    <tr>\n",
       "      <th>8685</th>\n",
       "      <td>Lexus</td>\n",
       "      <td>RX 400h</td>\n",
       "      <td>2007</td>\n",
       "      <td>268.0</td>\n",
       "      <td>6.0</td>\n",
       "      <td>AUTOMATIC</td>\n",
       "      <td>4dr SUV</td>\n",
       "      <td>25</td>\n",
       "      <td>27</td>\n",
       "    </tr>\n",
       "    <tr>\n",
       "      <th>4476</th>\n",
       "      <td>Ford</td>\n",
       "      <td>F-150</td>\n",
       "      <td>2015</td>\n",
       "      <td>325.0</td>\n",
       "      <td>6.0</td>\n",
       "      <td>AUTOMATIC</td>\n",
       "      <td>Extended Cab Pickup</td>\n",
       "      <td>26</td>\n",
       "      <td>19</td>\n",
       "    </tr>\n",
       "    <tr>\n",
       "      <th>991</th>\n",
       "      <td>Volvo</td>\n",
       "      <td>940</td>\n",
       "      <td>1994</td>\n",
       "      <td>114.0</td>\n",
       "      <td>4.0</td>\n",
       "      <td>AUTOMATIC</td>\n",
       "      <td>Wagon</td>\n",
       "      <td>24</td>\n",
       "      <td>17</td>\n",
       "    </tr>\n",
       "  </tbody>\n",
       "</table>\n",
       "</div>"
      ],
      "text/plain": [
       "       make    model  year  engine_hp  engine_cylinders transmission_type  \\\n",
       "2575  Honda    Civic  2016      174.0               4.0         AUTOMATIC   \n",
       "3794   Ford     Edge  2015      245.0               4.0         AUTOMATIC   \n",
       "8685  Lexus  RX 400h  2007      268.0               6.0         AUTOMATIC   \n",
       "4476   Ford    F-150  2015      325.0               6.0         AUTOMATIC   \n",
       "991   Volvo      940  1994      114.0               4.0         AUTOMATIC   \n",
       "\n",
       "            vehicle_style  highway_mpg  city_mpg  \n",
       "2575                Sedan           42        31  \n",
       "3794              4dr SUV           30        20  \n",
       "8685              4dr SUV           25        27  \n",
       "4476  Extended Cab Pickup           26        19  \n",
       "991                 Wagon           24        17  "
      ]
     },
     "execution_count": 364,
     "metadata": {},
     "output_type": "execute_result"
    }
   ],
   "source": [
    "df_train.head()"
   ]
  },
  {
   "cell_type": "code",
   "execution_count": 365,
   "id": "211008f3",
   "metadata": {},
   "outputs": [
    {
     "data": {
      "text/plain": [
       "0.2767810303221068"
      ]
     },
     "execution_count": 365,
     "metadata": {},
     "output_type": "execute_result"
    }
   ],
   "source": [
    "df_train_full['price_above_average'].mean()"
   ]
  },
  {
   "cell_type": "code",
   "execution_count": 366,
   "id": "9856f257",
   "metadata": {},
   "outputs": [],
   "source": [
    "from sklearn.metrics import mutual_info_score"
   ]
  },
  {
   "cell_type": "code",
   "execution_count": 367,
   "id": "41e5aec5",
   "metadata": {},
   "outputs": [],
   "source": [
    "def mutual_info_churn_score(serie):\n",
    "    return mutual_info_score(serie,df_train_full.price_above_average)"
   ]
  },
  {
   "cell_type": "code",
   "execution_count": 368,
   "id": "7cf465d3",
   "metadata": {},
   "outputs": [],
   "source": [
    "mi = df_train_full[selected_columns].apply(mutual_info_churn_score)"
   ]
  },
  {
   "cell_type": "code",
   "execution_count": 369,
   "id": "f9969a7e",
   "metadata": {},
   "outputs": [
    {
     "data": {
      "text/plain": [
       "model                0.46\n",
       "engine_hp            0.36\n",
       "make                 0.24\n",
       "engine_cylinders     0.12\n",
       "vehicle_style        0.08\n",
       "year                 0.07\n",
       "city_mpg             0.06\n",
       "highway_mpg          0.04\n",
       "transmission_type    0.02\n",
       "dtype: float64"
      ]
     },
     "execution_count": 369,
     "metadata": {},
     "output_type": "execute_result"
    }
   ],
   "source": [
    "mi.round(2).sort_values(ascending=False)"
   ]
  },
  {
   "cell_type": "markdown",
   "id": "7e92f798",
   "metadata": {},
   "source": [
    "### Answer 3: model"
   ]
  },
  {
   "cell_type": "code",
   "execution_count": 370,
   "id": "c6d429d9",
   "metadata": {},
   "outputs": [],
   "source": [
    "from sklearn.feature_extraction import DictVectorizer"
   ]
  },
  {
   "cell_type": "code",
   "execution_count": 371,
   "id": "b2d7a4fa",
   "metadata": {},
   "outputs": [],
   "source": [
    "train_dicts = df_train[selected_columns].to_dict(orient='records')"
   ]
  },
  {
   "cell_type": "code",
   "execution_count": 372,
   "id": "1f882365",
   "metadata": {},
   "outputs": [
    {
     "data": {
      "text/html": [
       "<style>#sk-container-id-11 {color: black;}#sk-container-id-11 pre{padding: 0;}#sk-container-id-11 div.sk-toggleable {background-color: white;}#sk-container-id-11 label.sk-toggleable__label {cursor: pointer;display: block;width: 100%;margin-bottom: 0;padding: 0.3em;box-sizing: border-box;text-align: center;}#sk-container-id-11 label.sk-toggleable__label-arrow:before {content: \"▸\";float: left;margin-right: 0.25em;color: #696969;}#sk-container-id-11 label.sk-toggleable__label-arrow:hover:before {color: black;}#sk-container-id-11 div.sk-estimator:hover label.sk-toggleable__label-arrow:before {color: black;}#sk-container-id-11 div.sk-toggleable__content {max-height: 0;max-width: 0;overflow: hidden;text-align: left;background-color: #f0f8ff;}#sk-container-id-11 div.sk-toggleable__content pre {margin: 0.2em;color: black;border-radius: 0.25em;background-color: #f0f8ff;}#sk-container-id-11 input.sk-toggleable__control:checked~div.sk-toggleable__content {max-height: 200px;max-width: 100%;overflow: auto;}#sk-container-id-11 input.sk-toggleable__control:checked~label.sk-toggleable__label-arrow:before {content: \"▾\";}#sk-container-id-11 div.sk-estimator input.sk-toggleable__control:checked~label.sk-toggleable__label {background-color: #d4ebff;}#sk-container-id-11 div.sk-label input.sk-toggleable__control:checked~label.sk-toggleable__label {background-color: #d4ebff;}#sk-container-id-11 input.sk-hidden--visually {border: 0;clip: rect(1px 1px 1px 1px);clip: rect(1px, 1px, 1px, 1px);height: 1px;margin: -1px;overflow: hidden;padding: 0;position: absolute;width: 1px;}#sk-container-id-11 div.sk-estimator {font-family: monospace;background-color: #f0f8ff;border: 1px dotted black;border-radius: 0.25em;box-sizing: border-box;margin-bottom: 0.5em;}#sk-container-id-11 div.sk-estimator:hover {background-color: #d4ebff;}#sk-container-id-11 div.sk-parallel-item::after {content: \"\";width: 100%;border-bottom: 1px solid gray;flex-grow: 1;}#sk-container-id-11 div.sk-label:hover label.sk-toggleable__label {background-color: #d4ebff;}#sk-container-id-11 div.sk-serial::before {content: \"\";position: absolute;border-left: 1px solid gray;box-sizing: border-box;top: 0;bottom: 0;left: 50%;z-index: 0;}#sk-container-id-11 div.sk-serial {display: flex;flex-direction: column;align-items: center;background-color: white;padding-right: 0.2em;padding-left: 0.2em;position: relative;}#sk-container-id-11 div.sk-item {position: relative;z-index: 1;}#sk-container-id-11 div.sk-parallel {display: flex;align-items: stretch;justify-content: center;background-color: white;position: relative;}#sk-container-id-11 div.sk-item::before, #sk-container-id-11 div.sk-parallel-item::before {content: \"\";position: absolute;border-left: 1px solid gray;box-sizing: border-box;top: 0;bottom: 0;left: 50%;z-index: -1;}#sk-container-id-11 div.sk-parallel-item {display: flex;flex-direction: column;z-index: 1;position: relative;background-color: white;}#sk-container-id-11 div.sk-parallel-item:first-child::after {align-self: flex-end;width: 50%;}#sk-container-id-11 div.sk-parallel-item:last-child::after {align-self: flex-start;width: 50%;}#sk-container-id-11 div.sk-parallel-item:only-child::after {width: 0;}#sk-container-id-11 div.sk-dashed-wrapped {border: 1px dashed gray;margin: 0 0.4em 0.5em 0.4em;box-sizing: border-box;padding-bottom: 0.4em;background-color: white;}#sk-container-id-11 div.sk-label label {font-family: monospace;font-weight: bold;display: inline-block;line-height: 1.2em;}#sk-container-id-11 div.sk-label-container {text-align: center;}#sk-container-id-11 div.sk-container {/* jupyter's `normalize.less` sets `[hidden] { display: none; }` but bootstrap.min.css set `[hidden] { display: none !important; }` so we also need the `!important` here to be able to override the default hidden behavior on the sphinx rendered scikit-learn.org. See: https://github.com/scikit-learn/scikit-learn/issues/21755 */display: inline-block !important;position: relative;}#sk-container-id-11 div.sk-text-repr-fallback {display: none;}</style><div id=\"sk-container-id-11\" class=\"sk-top-container\"><div class=\"sk-text-repr-fallback\"><pre>DictVectorizer(sparse=False)</pre><b>In a Jupyter environment, please rerun this cell to show the HTML representation or trust the notebook. <br />On GitHub, the HTML representation is unable to render, please try loading this page with nbviewer.org.</b></div><div class=\"sk-container\" hidden><div class=\"sk-item\"><div class=\"sk-estimator sk-toggleable\"><input class=\"sk-toggleable__control sk-hidden--visually\" id=\"sk-estimator-id-11\" type=\"checkbox\" checked><label for=\"sk-estimator-id-11\" class=\"sk-toggleable__label sk-toggleable__label-arrow\">DictVectorizer</label><div class=\"sk-toggleable__content\"><pre>DictVectorizer(sparse=False)</pre></div></div></div></div></div>"
      ],
      "text/plain": [
       "DictVectorizer(sparse=False)"
      ]
     },
     "execution_count": 372,
     "metadata": {},
     "output_type": "execute_result"
    }
   ],
   "source": [
    "dv = DictVectorizer(sparse=False)\n",
    "dv.fit(train_dicts)"
   ]
  },
  {
   "cell_type": "code",
   "execution_count": 373,
   "id": "88c56577",
   "metadata": {},
   "outputs": [
    {
     "data": {
      "text/plain": [
       "array(['city_mpg', 'engine_cylinders', 'engine_hp', 'highway_mpg',\n",
       "       'make=Acura', 'make=Alfa Romeo', 'make=Aston Martin', 'make=Audi',\n",
       "       'make=BMW', 'make=Bentley', 'make=Bugatti', 'make=Buick',\n",
       "       'make=Cadillac', 'make=Chevrolet', 'make=Chrysler', 'make=Dodge',\n",
       "       'make=FIAT', 'make=Ferrari', 'make=Ford', 'make=GMC',\n",
       "       'make=Genesis', 'make=HUMMER', 'make=Honda', 'make=Hyundai',\n",
       "       'make=Infiniti', 'make=Kia', 'make=Lamborghini', 'make=Land Rover',\n",
       "       'make=Lexus', 'make=Lincoln', 'make=Lotus', 'make=Maserati',\n",
       "       'make=Maybach', 'make=Mazda', 'make=McLaren', 'make=Mercedes-Benz',\n",
       "       'make=Mitsubishi', 'make=Nissan', 'make=Oldsmobile',\n",
       "       'make=Plymouth', 'make=Pontiac', 'make=Porsche',\n",
       "       'make=Rolls-Royce', 'make=Saab', 'make=Scion', 'make=Spyker',\n",
       "       'make=Subaru', 'make=Suzuki', 'make=Tesla', 'make=Toyota',\n",
       "       'make=Volkswagen', 'make=Volvo', 'model=1 Series', 'model=100',\n",
       "       'model=124 Spider', 'model=190-Class', 'model=2', 'model=2 Series',\n",
       "       'model=200', 'model=200SX', 'model=240', 'model=240SX', 'model=3',\n",
       "       'model=3 Series', 'model=3 Series Gran Turismo', 'model=300',\n",
       "       'model=300-Class', 'model=3000GT', 'model=300M', 'model=300ZX',\n",
       "       'model=323', 'model=350-Class', 'model=350Z', 'model=360',\n",
       "       'model=370Z', 'model=4 Series', 'model=4 Series Gran Coupe',\n",
       "       'model=400-Class', 'model=420-Class', 'model=456M',\n",
       "       'model=458 Italia', 'model=4C', 'model=4Runner', 'model=5',\n",
       "       'model=5 Series', 'model=5 Series Gran Turismo', 'model=500',\n",
       "       'model=500-Class', 'model=500L', 'model=500X', 'model=500e',\n",
       "       'model=550', 'model=560-Class', 'model=57', 'model=570S',\n",
       "       'model=575M', 'model=599', 'model=6', 'model=6 Series',\n",
       "       'model=6 Series Gran Coupe', 'model=600-Class', 'model=6000',\n",
       "       'model=612 Scaglietti', 'model=62', 'model=626', 'model=7 Series',\n",
       "       'model=740', 'model=760', 'model=780', 'model=8 Series',\n",
       "       'model=80', 'model=850', 'model=9-2X', 'model=9-3',\n",
       "       'model=9-3 Griffin', 'model=9-4X', 'model=9-5', 'model=9-7X',\n",
       "       'model=90', 'model=900', 'model=9000', 'model=911', 'model=928',\n",
       "       'model=929', 'model=940', 'model=944', 'model=960', 'model=968',\n",
       "       'model=A3', 'model=A4', 'model=A5', 'model=A6', 'model=A7',\n",
       "       'model=A8', 'model=ALPINA B6 Gran Coupe', 'model=ALPINA B7',\n",
       "       'model=AMG GT', 'model=ATS', 'model=ATS Coupe', 'model=Acadia',\n",
       "       'model=Acadia Limited', 'model=Accent', 'model=Acclaim',\n",
       "       'model=Accord', 'model=Accord Crosstour', 'model=Accord Hybrid',\n",
       "       'model=Accord Plug-In Hybrid', 'model=Achieva',\n",
       "       'model=ActiveHybrid 5', 'model=ActiveHybrid 7',\n",
       "       'model=ActiveHybrid X6', 'model=Aerio', 'model=Aerostar',\n",
       "       'model=Alero', 'model=Allante', 'model=Altima',\n",
       "       'model=Altima Hybrid', 'model=Amanti', 'model=Armada',\n",
       "       'model=Arnage', 'model=Aspen', 'model=Aspire', 'model=Astro',\n",
       "       'model=Astro Cargo', 'model=Aurora', 'model=Avalanche',\n",
       "       'model=Avalon', 'model=Avalon Hybrid', 'model=Avenger',\n",
       "       'model=Aventador', 'model=Aveo', 'model=Aviator', 'model=Axxess',\n",
       "       'model=Azera', 'model=Aztek', 'model=Azure', 'model=Azure T',\n",
       "       'model=B-Class Electric Drive', 'model=B-Series',\n",
       "       'model=B-Series Pickup', 'model=B-Series Truck',\n",
       "       'model=B9 Tribeca', 'model=BRZ', 'model=Baja', 'model=Beetle',\n",
       "       'model=Beetle Convertible', 'model=Beretta',\n",
       "       'model=Black Diamond Avalanche', 'model=Blackwood', 'model=Blazer',\n",
       "       'model=Bonneville', 'model=Borrego', 'model=Boxster',\n",
       "       'model=Bravada', 'model=Breeze', 'model=Bronco', 'model=Bronco II',\n",
       "       'model=Brooklands', 'model=Brougham', 'model=C-Class',\n",
       "       'model=C-Max Hybrid', 'model=C/K 1500 Series',\n",
       "       'model=C/K 2500 Series', 'model=C30', 'model=C43 AMG', 'model=C70',\n",
       "       'model=C8', 'model=CC', 'model=CL', 'model=CL-Class',\n",
       "       'model=CLA-Class', 'model=CLK-Class', 'model=CLS-Class',\n",
       "       'model=CR-V', 'model=CR-Z', 'model=CT6', 'model=CTS',\n",
       "       'model=CTS Coupe', 'model=CTS Wagon', 'model=CTS-V',\n",
       "       'model=CTS-V Coupe', 'model=CTS-V Wagon', 'model=CX-3',\n",
       "       'model=CX-5', 'model=CX-7', 'model=CX-9', 'model=Cabrio',\n",
       "       'model=Cabriolet', 'model=Cadenza', 'model=Caliber',\n",
       "       'model=Camaro', 'model=Camry', 'model=Camry Hybrid',\n",
       "       'model=Camry Solara', 'model=Canyon', 'model=Caprice',\n",
       "       'model=Captiva Sport', 'model=Caravan', 'model=Carrera GT',\n",
       "       'model=Cascada', 'model=Catera', 'model=Cavalier', 'model=Cayenne',\n",
       "       'model=Cayman', 'model=Cayman S', 'model=Celica', 'model=Century',\n",
       "       'model=Challenger', 'model=Charger', 'model=Chevy Van',\n",
       "       'model=City Express', 'model=Civic', 'model=Civic CRX',\n",
       "       'model=Civic del Sol', 'model=Classic', 'model=Cobalt',\n",
       "       'model=Colorado', 'model=Colt', 'model=Concorde',\n",
       "       'model=Continental', 'model=Continental Flying Spur Speed',\n",
       "       'model=Continental GT', 'model=Continental GT Speed',\n",
       "       'model=Continental GTC', 'model=Continental GTC Speed',\n",
       "       'model=Continental Supersports',\n",
       "       'model=Continental Supersports Convertible', 'model=Contour',\n",
       "       'model=Corniche', 'model=Corolla', 'model=Corolla iM',\n",
       "       'model=Corrado', 'model=Corvette', 'model=Corvette Stingray',\n",
       "       'model=Coupe', 'model=Cressida', 'model=Crossfire',\n",
       "       'model=Crosstour', 'model=Crosstrek', 'model=Crown Victoria',\n",
       "       'model=Cruze', 'model=Cruze Limited', 'model=Cube',\n",
       "       'model=Custom Cruiser', 'model=Cutlass', 'model=Cutlass Calais',\n",
       "       'model=Cutlass Ciera', 'model=Cutlass Supreme', 'model=DB9',\n",
       "       'model=DB9 GT', 'model=DBS', 'model=DTS', 'model=Dakota',\n",
       "       'model=Dart', 'model=Dawn', 'model=Daytona', 'model=DeVille',\n",
       "       'model=Defender', 'model=Diablo', 'model=Diamante',\n",
       "       'model=Discovery', 'model=Discovery Series II',\n",
       "       'model=Discovery Sport', 'model=Durango', 'model=Dynasty',\n",
       "       'model=E-150', 'model=E-250', 'model=E-Class',\n",
       "       'model=E-Series Van', 'model=E-Series Wagon', 'model=E55 AMG',\n",
       "       'model=ECHO', 'model=ES 250', 'model=ES 300', 'model=ES 300h',\n",
       "       'model=EX', 'model=EX35', 'model=Eclipse', 'model=Eclipse Spyder',\n",
       "       'model=Edge', 'model=Eighty-Eight', 'model=Eighty-Eight Royale',\n",
       "       'model=Elantra', 'model=Elantra Coupe', 'model=Elantra GT',\n",
       "       'model=Elantra Touring', 'model=Eldorado', 'model=Electra',\n",
       "       'model=Element', 'model=Elise', 'model=Enclave', 'model=Encore',\n",
       "       'model=Endeavor', 'model=Entourage', 'model=Envision',\n",
       "       'model=Envoy', 'model=Envoy XL', 'model=Envoy XUV', 'model=Eos',\n",
       "       'model=Equator', 'model=Equinox', 'model=Equus', 'model=Escalade',\n",
       "       'model=Escalade ESV', 'model=Escalade EXT',\n",
       "       'model=Escalade Hybrid', 'model=Escape', 'model=Escape Hybrid',\n",
       "       'model=Escort', 'model=Esprit', 'model=Esteem', 'model=EuroVan',\n",
       "       'model=Evora', 'model=Excel', 'model=Exige', 'model=Expedition',\n",
       "       'model=Explorer', 'model=Explorer Sport',\n",
       "       'model=Explorer Sport Trac', 'model=Expo', 'model=Express',\n",
       "       'model=Express Cargo', 'model=F-150', 'model=F-150 Heritage',\n",
       "       'model=F-150 SVT Lightning', 'model=F-250', 'model=F12 Berlinetta',\n",
       "       'model=F430', 'model=FF', 'model=FJ Cruiser', 'model=FR-S',\n",
       "       'model=FX', 'model=FX35', 'model=FX50', 'model=Festiva',\n",
       "       'model=Fiesta', 'model=Firebird', 'model=Fit',\n",
       "       'model=Five Hundred', 'model=Fleetwood', 'model=Flex',\n",
       "       'model=Flying Spur', 'model=Focus', 'model=Focus ST',\n",
       "       'model=Forenza', 'model=Forester', 'model=Forte', 'model=Fox',\n",
       "       'model=Freelander', 'model=Freestar', 'model=Freestyle',\n",
       "       'model=Frontier', 'model=Fusion', 'model=Fusion Hybrid',\n",
       "       'model=G Convertible', 'model=G Coupe', 'model=G Sedan',\n",
       "       'model=G-Class', 'model=G20', 'model=G3', 'model=G35', 'model=G37',\n",
       "       'model=G37 Convertible', 'model=G37 Coupe', 'model=G37 Sedan',\n",
       "       'model=G5', 'model=G6', 'model=G8', 'model=G80', 'model=GL-Class',\n",
       "       'model=GLA-Class', 'model=GLE-Class', 'model=GLE-Class Coupe',\n",
       "       'model=GLI', 'model=GLK-Class', 'model=GLS-Class', 'model=GS 200t',\n",
       "       'model=GS 300', 'model=GS 350', 'model=GS 400', 'model=GS 430',\n",
       "       'model=GS 450h', 'model=GS 460', 'model=GT', 'model=GT-R',\n",
       "       'model=GTI', 'model=GTO', 'model=GX 460', 'model=GX 470',\n",
       "       'model=Galant', 'model=Gallardo', 'model=Genesis Coupe',\n",
       "       'model=Ghibli', 'model=Ghost', 'model=Ghost Series II',\n",
       "       'model=Golf', 'model=Golf Alltrack', 'model=Golf GTI',\n",
       "       'model=Golf R', 'model=Golf SportWagen', 'model=GranSport',\n",
       "       'model=GranTurismo', 'model=GranTurismo Convertible',\n",
       "       'model=Grand Am', 'model=Grand Caravan', 'model=Grand Prix',\n",
       "       'model=Grand Vitara', 'model=Grand Voyager', 'model=H3',\n",
       "       'model=H3T', 'model=HHR', 'model=HR-V', 'model=HS 250h',\n",
       "       'model=Highlander', 'model=Highlander Hybrid', 'model=Horizon',\n",
       "       'model=Huracan', 'model=I30', 'model=I35', 'model=ILX',\n",
       "       'model=ILX Hybrid', 'model=IS 200t', 'model=IS 250',\n",
       "       'model=IS 250 C', 'model=IS 300', 'model=IS 350', 'model=IS 350 C',\n",
       "       'model=IS F', 'model=Impala', 'model=Impala Limited',\n",
       "       'model=Imperial', 'model=Impreza', 'model=Impreza WRX',\n",
       "       'model=Insight', 'model=Integra', 'model=Intrepid',\n",
       "       'model=Intrigue', 'model=J30', 'model=JX', 'model=Jetta',\n",
       "       'model=Jetta GLI', 'model=Jetta Hybrid', 'model=Jetta SportWagen',\n",
       "       'model=Jimmy', 'model=Journey', 'model=Juke', 'model=Justy',\n",
       "       'model=K900', 'model=Kizashi', 'model=LFA', 'model=LHS',\n",
       "       'model=LR2', 'model=LR3', 'model=LR4', 'model=LS', 'model=LS 400',\n",
       "       'model=LS 430', 'model=LS 460', 'model=LS 600h L', 'model=LSS',\n",
       "       'model=LTD Crown Victoria', 'model=LX 450', 'model=LX 470',\n",
       "       'model=LX 570', 'model=LaCrosse', 'model=Lancer',\n",
       "       'model=Lancer Evolution', 'model=Lancer Sportback',\n",
       "       'model=Land Cruiser', 'model=Laser', 'model=Le Baron',\n",
       "       'model=Le Mans', 'model=LeSabre', 'model=Leaf', 'model=Legacy',\n",
       "       'model=Legend', 'model=Levante', 'model=Loyale', 'model=Lucerne',\n",
       "       'model=Lumina', 'model=Lumina Minivan', 'model=M', 'model=M-Class',\n",
       "       'model=M2', 'model=M3', 'model=M30', 'model=M35', 'model=M37',\n",
       "       'model=M4', 'model=M45', 'model=M5', 'model=M56', 'model=M6',\n",
       "       'model=M6 Gran Coupe', 'model=MDX', 'model=MKC', 'model=MKS',\n",
       "       'model=MKT', 'model=MKX', 'model=MKZ', 'model=MKZ Hybrid',\n",
       "       'model=MP4-12C', 'model=MPV', 'model=MR2', 'model=MR2 Spyder',\n",
       "       'model=MX-3', 'model=MX-5 Miata', 'model=MX-6', 'model=Macan',\n",
       "       'model=Magnum', 'model=Malibu', 'model=Malibu Classic',\n",
       "       'model=Malibu Hybrid', 'model=Malibu Limited', 'model=Malibu Maxx',\n",
       "       'model=Mark LT', 'model=Mark VII', 'model=Mark VIII',\n",
       "       'model=Matrix', 'model=Maxima', 'model=Maybach',\n",
       "       'model=Mazdaspeed 3', 'model=Mazdaspeed MX-5 Miata',\n",
       "       'model=Mazdaspeed Protege', 'model=Metris', 'model=Metro',\n",
       "       'model=Mighty Max Pickup', 'model=Millenia', 'model=Mirage',\n",
       "       'model=Mirage G4', 'model=Model S', 'model=Monaco',\n",
       "       'model=Montana', 'model=Montana SV6', 'model=Monte Carlo',\n",
       "       'model=Montero', 'model=Montero Sport', 'model=Mulsanne',\n",
       "       'model=Murano', 'model=Murano CrossCabriolet', 'model=Murcielago',\n",
       "       'model=Mustang', 'model=Mustang SVT Cobra', 'model=NSX',\n",
       "       'model=NV200', 'model=NX', 'model=NX 200t', 'model=NX 300h',\n",
       "       'model=Navajo', 'model=Navigator', 'model=Neon',\n",
       "       'model=New Beetle', 'model=New Yorker', 'model=Ninety-Eight',\n",
       "       'model=Nitro', 'model=Odyssey', 'model=Omni', 'model=Optima',\n",
       "       'model=Optima Hybrid', 'model=Outback', 'model=Outlander',\n",
       "       'model=Outlander Sport', 'model=PT Cruiser', 'model=Pacifica',\n",
       "       'model=Panamera', 'model=Park Avenue', 'model=Paseo',\n",
       "       'model=Passat', 'model=Passport', 'model=Pathfinder',\n",
       "       'model=Phaeton', 'model=Phantom', 'model=Phantom Coupe',\n",
       "       'model=Phantom Drophead Coupe', 'model=Pickup', 'model=Pilot',\n",
       "       'model=Precis', 'model=Prelude', 'model=Previa', 'model=Prius',\n",
       "       'model=Prius Prime', 'model=Prius c', 'model=Prius v',\n",
       "       'model=Prizm', 'model=Probe', 'model=Protege', 'model=Protege5',\n",
       "       'model=Prowler', 'model=Q3', 'model=Q40', 'model=Q45', 'model=Q5',\n",
       "       'model=Q50', 'model=Q60 Convertible', 'model=Q60 Coupe',\n",
       "       'model=Q7', 'model=Q70', 'model=QX', 'model=QX4', 'model=QX50',\n",
       "       'model=QX56', 'model=QX60', 'model=QX70', 'model=QX80',\n",
       "       'model=Quattroporte', 'model=Quest', 'model=R-Class', 'model=R32',\n",
       "       'model=R8', 'model=RAM 150', 'model=RAM 250', 'model=RAV4',\n",
       "       'model=RAV4 EV', 'model=RAV4 Hybrid', 'model=RC 200t',\n",
       "       'model=RC 300', 'model=RC 350', 'model=RDX', 'model=RL',\n",
       "       'model=RLX', 'model=RS 4', 'model=RS 5', 'model=RS 7', 'model=RSX',\n",
       "       'model=RX 300', 'model=RX 330', 'model=RX 350', 'model=RX 400h',\n",
       "       'model=RX 450h', 'model=RX-7', 'model=RX-8', 'model=Rabbit',\n",
       "       'model=Raider', 'model=Rainier', 'model=Rally Wagon',\n",
       "       'model=Ram 50 Pickup', 'model=Ram Cargo', 'model=Ram Pickup 1500',\n",
       "       'model=Ram Van', 'model=Ram Wagon', 'model=Ramcharger',\n",
       "       'model=Range Rover', 'model=Range Rover Evoque',\n",
       "       'model=Range Rover Sport', 'model=Ranger', 'model=Rapide',\n",
       "       'model=Rapide S', 'model=Reatta', 'model=Regal', 'model=Regency',\n",
       "       'model=Rendezvous', 'model=Reno', 'model=Reventon',\n",
       "       'model=Ridgeline', 'model=Rio', 'model=Riviera',\n",
       "       'model=Roadmaster', 'model=Rogue', 'model=Rogue Select',\n",
       "       'model=Rondo', 'model=Routan', 'model=S-10', 'model=S-10 Blazer',\n",
       "       'model=S-15', 'model=S-15 Jimmy', 'model=S-Class', 'model=S2000',\n",
       "       'model=S3', 'model=S4', 'model=S40', 'model=S5', 'model=S6',\n",
       "       'model=S60', 'model=S60 Cross Country', 'model=S7', 'model=S70',\n",
       "       'model=S8', 'model=S80', 'model=S90', 'model=SC 300',\n",
       "       'model=SC 400', 'model=SC 430', 'model=SL-Class',\n",
       "       'model=SLC-Class', 'model=SLK-Class', 'model=SLR McLaren',\n",
       "       'model=SLS AMG', 'model=SLS AMG GT',\n",
       "       'model=SLS AMG GT Final Edition', 'model=SLX', 'model=SQ5',\n",
       "       'model=SRT Viper', 'model=SRX', 'model=STS', 'model=STS-V',\n",
       "       'model=SVX', 'model=SX4', 'model=Safari', 'model=Safari Cargo',\n",
       "       'model=Samurai', 'model=Santa Fe', 'model=Santa Fe Sport',\n",
       "       'model=Savana', 'model=Savana Cargo', 'model=Scoupe',\n",
       "       'model=Sebring', 'model=Sedona', 'model=Sentra', 'model=Sephia',\n",
       "       'model=Sequoia', 'model=Seville', 'model=Shadow',\n",
       "       'model=Shelby GT350', 'model=Shelby GT500', 'model=Sidekick',\n",
       "       'model=Sienna', 'model=Sierra 1500', 'model=Sierra 1500 Classic',\n",
       "       'model=Sierra 1500 Hybrid', 'model=Sierra 1500HD',\n",
       "       'model=Sierra C3', 'model=Sierra Classic 1500', 'model=Sigma',\n",
       "       'model=Silhouette', 'model=Silver Seraph', 'model=Silverado 1500',\n",
       "       'model=Silverado 1500 Classic', 'model=Silverado 1500 Hybrid',\n",
       "       'model=Skylark', 'model=Solstice', 'model=Sonata',\n",
       "       'model=Sonata Hybrid', 'model=Sonic', 'model=Sonoma',\n",
       "       'model=Sorento', 'model=Soul', 'model=Soul EV', 'model=Spark',\n",
       "       'model=Spark EV', 'model=Spectra', 'model=Spirit',\n",
       "       'model=Sportage', 'model=Sportvan', 'model=Spyder', 'model=Stanza',\n",
       "       'model=Stealth', 'model=Stratus', 'model=Suburban',\n",
       "       'model=Sunbird', 'model=Sundance', 'model=Sunfire', 'model=Supra',\n",
       "       'model=Swift', 'model=Syclone', 'model=T100', 'model=TL',\n",
       "       'model=TLX', 'model=TSX', 'model=TSX Sport Wagon', 'model=TT',\n",
       "       'model=TTS', 'model=Tacoma', 'model=Tahoe', 'model=Tahoe Hybrid',\n",
       "       'model=Tahoe Limited/Z71', 'model=Taurus', 'model=Taurus X',\n",
       "       'model=Tempo', 'model=Tercel', 'model=Terrain', 'model=Terraza',\n",
       "       'model=Thunderbird', 'model=Tiburon', 'model=Tiguan',\n",
       "       'model=Titan', 'model=Toronado', 'model=Torrent', 'model=Touareg',\n",
       "       'model=Touareg 2', 'model=Town Car', 'model=Town and Country',\n",
       "       'model=Tracker', 'model=TrailBlazer', 'model=TrailBlazer EXT',\n",
       "       'model=Trans Sport', 'model=Transit Connect',\n",
       "       'model=Transit Wagon', 'model=Traverse', 'model=Trax',\n",
       "       'model=Tribeca', 'model=Tribute', 'model=Tribute Hybrid',\n",
       "       'model=Truck', 'model=Tucson', 'model=Tundra', 'model=Typhoon',\n",
       "       'model=Uplander', 'model=V12 Vanquish', 'model=V12 Vantage',\n",
       "       'model=V12 Vantage S', 'model=V40', 'model=V50', 'model=V60',\n",
       "       'model=V60 Cross Country', 'model=V70', 'model=V8 Vantage',\n",
       "       'model=Van', 'model=Vanagon', 'model=Vandura', 'model=Vanquish',\n",
       "       'model=Vanwagon', 'model=Veloster', 'model=Venture', 'model=Venza',\n",
       "       'model=Veracruz', 'model=Verano', 'model=Verona', 'model=Versa',\n",
       "       'model=Versa Note', 'model=Veyron 16.4', 'model=Vibe',\n",
       "       'model=Vigor', 'model=Viper', 'model=Virage', 'model=Vitara',\n",
       "       'model=Voyager', 'model=WRX', 'model=Windstar',\n",
       "       'model=Windstar Cargo', 'model=Wraith', 'model=X-90', 'model=X1',\n",
       "       'model=X3', 'model=X4', 'model=X5', 'model=X5 M', 'model=X6',\n",
       "       'model=X6 M', 'model=XC', 'model=XC60', 'model=XC70', 'model=XC90',\n",
       "       'model=XG300', 'model=XG350', 'model=XL-7', 'model=XL7',\n",
       "       'model=XLR', 'model=XLR-V', 'model=XT', 'model=XT5', 'model=XTS',\n",
       "       'model=XV Crosstrek', 'model=Xterra', 'model=Yaris',\n",
       "       'model=Yaris iA', 'model=Yukon', 'model=Yukon Denali',\n",
       "       'model=Yukon Hybrid', 'model=Yukon XL', 'model=Z3', 'model=Z4',\n",
       "       'model=Z4 M', 'model=Z8', 'model=ZDX', 'model=allroad',\n",
       "       'model=allroad quattro', 'model=e-Golf', 'model=i-MiEV',\n",
       "       'model=i3', 'model=iA', 'model=iQ', 'model=tC', 'model=xA',\n",
       "       'model=xB', 'model=xD', 'transmission_type=AUTOMATED_MANUAL',\n",
       "       'transmission_type=AUTOMATIC', 'transmission_type=DIRECT_DRIVE',\n",
       "       'transmission_type=MANUAL', 'transmission_type=UNKNOWN',\n",
       "       'vehicle_style=2dr Hatchback', 'vehicle_style=2dr SUV',\n",
       "       'vehicle_style=4dr Hatchback', 'vehicle_style=4dr SUV',\n",
       "       'vehicle_style=Cargo Minivan', 'vehicle_style=Cargo Van',\n",
       "       'vehicle_style=Convertible', 'vehicle_style=Convertible SUV',\n",
       "       'vehicle_style=Coupe', 'vehicle_style=Crew Cab Pickup',\n",
       "       'vehicle_style=Extended Cab Pickup',\n",
       "       'vehicle_style=Passenger Minivan', 'vehicle_style=Passenger Van',\n",
       "       'vehicle_style=Regular Cab Pickup', 'vehicle_style=Sedan',\n",
       "       'vehicle_style=Wagon', 'year'], dtype=object)"
      ]
     },
     "execution_count": 373,
     "metadata": {},
     "output_type": "execute_result"
    }
   ],
   "source": [
    "dv.get_feature_names_out()"
   ]
  },
  {
   "cell_type": "code",
   "execution_count": 374,
   "id": "3483280a",
   "metadata": {},
   "outputs": [],
   "source": [
    "X_train = dv.transform(train_dicts)"
   ]
  },
  {
   "cell_type": "code",
   "execution_count": 375,
   "id": "297fef99",
   "metadata": {},
   "outputs": [],
   "source": [
    "from sklearn.linear_model import LogisticRegression"
   ]
  },
  {
   "cell_type": "code",
   "execution_count": 376,
   "id": "b2f39d4b",
   "metadata": {},
   "outputs": [
    {
     "data": {
      "text/html": [
       "<style>#sk-container-id-12 {color: black;}#sk-container-id-12 pre{padding: 0;}#sk-container-id-12 div.sk-toggleable {background-color: white;}#sk-container-id-12 label.sk-toggleable__label {cursor: pointer;display: block;width: 100%;margin-bottom: 0;padding: 0.3em;box-sizing: border-box;text-align: center;}#sk-container-id-12 label.sk-toggleable__label-arrow:before {content: \"▸\";float: left;margin-right: 0.25em;color: #696969;}#sk-container-id-12 label.sk-toggleable__label-arrow:hover:before {color: black;}#sk-container-id-12 div.sk-estimator:hover label.sk-toggleable__label-arrow:before {color: black;}#sk-container-id-12 div.sk-toggleable__content {max-height: 0;max-width: 0;overflow: hidden;text-align: left;background-color: #f0f8ff;}#sk-container-id-12 div.sk-toggleable__content pre {margin: 0.2em;color: black;border-radius: 0.25em;background-color: #f0f8ff;}#sk-container-id-12 input.sk-toggleable__control:checked~div.sk-toggleable__content {max-height: 200px;max-width: 100%;overflow: auto;}#sk-container-id-12 input.sk-toggleable__control:checked~label.sk-toggleable__label-arrow:before {content: \"▾\";}#sk-container-id-12 div.sk-estimator input.sk-toggleable__control:checked~label.sk-toggleable__label {background-color: #d4ebff;}#sk-container-id-12 div.sk-label input.sk-toggleable__control:checked~label.sk-toggleable__label {background-color: #d4ebff;}#sk-container-id-12 input.sk-hidden--visually {border: 0;clip: rect(1px 1px 1px 1px);clip: rect(1px, 1px, 1px, 1px);height: 1px;margin: -1px;overflow: hidden;padding: 0;position: absolute;width: 1px;}#sk-container-id-12 div.sk-estimator {font-family: monospace;background-color: #f0f8ff;border: 1px dotted black;border-radius: 0.25em;box-sizing: border-box;margin-bottom: 0.5em;}#sk-container-id-12 div.sk-estimator:hover {background-color: #d4ebff;}#sk-container-id-12 div.sk-parallel-item::after {content: \"\";width: 100%;border-bottom: 1px solid gray;flex-grow: 1;}#sk-container-id-12 div.sk-label:hover label.sk-toggleable__label {background-color: #d4ebff;}#sk-container-id-12 div.sk-serial::before {content: \"\";position: absolute;border-left: 1px solid gray;box-sizing: border-box;top: 0;bottom: 0;left: 50%;z-index: 0;}#sk-container-id-12 div.sk-serial {display: flex;flex-direction: column;align-items: center;background-color: white;padding-right: 0.2em;padding-left: 0.2em;position: relative;}#sk-container-id-12 div.sk-item {position: relative;z-index: 1;}#sk-container-id-12 div.sk-parallel {display: flex;align-items: stretch;justify-content: center;background-color: white;position: relative;}#sk-container-id-12 div.sk-item::before, #sk-container-id-12 div.sk-parallel-item::before {content: \"\";position: absolute;border-left: 1px solid gray;box-sizing: border-box;top: 0;bottom: 0;left: 50%;z-index: -1;}#sk-container-id-12 div.sk-parallel-item {display: flex;flex-direction: column;z-index: 1;position: relative;background-color: white;}#sk-container-id-12 div.sk-parallel-item:first-child::after {align-self: flex-end;width: 50%;}#sk-container-id-12 div.sk-parallel-item:last-child::after {align-self: flex-start;width: 50%;}#sk-container-id-12 div.sk-parallel-item:only-child::after {width: 0;}#sk-container-id-12 div.sk-dashed-wrapped {border: 1px dashed gray;margin: 0 0.4em 0.5em 0.4em;box-sizing: border-box;padding-bottom: 0.4em;background-color: white;}#sk-container-id-12 div.sk-label label {font-family: monospace;font-weight: bold;display: inline-block;line-height: 1.2em;}#sk-container-id-12 div.sk-label-container {text-align: center;}#sk-container-id-12 div.sk-container {/* jupyter's `normalize.less` sets `[hidden] { display: none; }` but bootstrap.min.css set `[hidden] { display: none !important; }` so we also need the `!important` here to be able to override the default hidden behavior on the sphinx rendered scikit-learn.org. See: https://github.com/scikit-learn/scikit-learn/issues/21755 */display: inline-block !important;position: relative;}#sk-container-id-12 div.sk-text-repr-fallback {display: none;}</style><div id=\"sk-container-id-12\" class=\"sk-top-container\"><div class=\"sk-text-repr-fallback\"><pre>LogisticRegression(C=10, max_iter=1000, random_state=42, solver=&#x27;liblinear&#x27;)</pre><b>In a Jupyter environment, please rerun this cell to show the HTML representation or trust the notebook. <br />On GitHub, the HTML representation is unable to render, please try loading this page with nbviewer.org.</b></div><div class=\"sk-container\" hidden><div class=\"sk-item\"><div class=\"sk-estimator sk-toggleable\"><input class=\"sk-toggleable__control sk-hidden--visually\" id=\"sk-estimator-id-12\" type=\"checkbox\" checked><label for=\"sk-estimator-id-12\" class=\"sk-toggleable__label sk-toggleable__label-arrow\">LogisticRegression</label><div class=\"sk-toggleable__content\"><pre>LogisticRegression(C=10, max_iter=1000, random_state=42, solver=&#x27;liblinear&#x27;)</pre></div></div></div></div></div>"
      ],
      "text/plain": [
       "LogisticRegression(C=10, max_iter=1000, random_state=42, solver='liblinear')"
      ]
     },
     "execution_count": 376,
     "metadata": {},
     "output_type": "execute_result"
    }
   ],
   "source": [
    "model = LogisticRegression(solver='liblinear', C=10, max_iter=1000, random_state=42)\n",
    "model.fit(X_train, y_train)"
   ]
  },
  {
   "cell_type": "code",
   "execution_count": 377,
   "id": "fe7a2468",
   "metadata": {},
   "outputs": [],
   "source": [
    "val_dicts = df_val[selected_columns].to_dict(orient='records')\n",
    "#dv.fit(val_dicts)"
   ]
  },
  {
   "cell_type": "code",
   "execution_count": 378,
   "id": "d39e230b",
   "metadata": {},
   "outputs": [],
   "source": [
    "X_val = dv.transform(val_dicts)"
   ]
  },
  {
   "cell_type": "code",
   "execution_count": 379,
   "id": "f511754e",
   "metadata": {},
   "outputs": [],
   "source": [
    "y_val_pred = model.predict(X_val)"
   ]
  },
  {
   "cell_type": "code",
   "execution_count": 380,
   "id": "d9d36004",
   "metadata": {},
   "outputs": [
    {
     "data": {
      "text/plain": [
       "-0.04954342766963281"
      ]
     },
     "execution_count": 380,
     "metadata": {},
     "output_type": "execute_result"
    }
   ],
   "source": [
    "model.intercept_[0]"
   ]
  },
  {
   "cell_type": "code",
   "execution_count": 381,
   "id": "43804b4d",
   "metadata": {},
   "outputs": [
    {
     "data": {
      "text/plain": [
       "array([ 2.700e-02, -8.900e-02,  3.300e-02,  7.800e-02,  8.080e-01,\n",
       "        3.560e-01,  1.700e-01,  2.372e+00,  1.880e+00,  6.200e-02,\n",
       "        0.000e+00, -4.720e-01,  1.874e+00, -1.326e+00, -9.680e-01,\n",
       "       -2.489e+00, -1.660e-01,  1.050e-01, -1.264e+00, -7.010e-01,\n",
       "        1.160e-01,  2.900e-02, -1.101e+00, -1.635e+00,  1.580e-01,\n",
       "       -1.137e+00,  2.000e-03,  1.398e+00,  1.217e+00,  1.002e+00,\n",
       "        1.488e+00,  3.110e-01,  1.000e-03, -7.900e-01,  0.000e+00,\n",
       "        1.147e+00, -6.270e-01, -1.048e+00, -4.080e-01, -1.500e-02,\n",
       "       -9.880e-01,  1.073e+00,  2.450e-01,  7.270e-01, -7.800e-02,\n",
       "        7.600e-02, -1.113e+00, -7.040e-01,  8.960e-01, -5.450e-01,\n",
       "       -8.410e-01,  8.510e-01, -1.390e-01, -3.700e-02, -1.200e-02,\n",
       "       -2.000e-03, -2.000e-03, -1.590e-01, -2.490e-01, -1.000e-03,\n",
       "       -1.000e-03, -1.000e-03, -9.300e-02,  1.880e-01,  3.190e-01,\n",
       "       -2.390e-01, -6.000e-02, -3.500e-02, -5.700e-02, -3.300e-02,\n",
       "       -0.000e+00, -2.000e-03, -3.670e-01,  4.900e-02, -1.870e-01,\n",
       "        4.080e-01,  1.990e-01, -8.000e-02, -8.000e-03,  2.400e-02,\n",
       "        0.000e+00,  3.560e-01,  1.720e-01, -9.000e-03,  3.130e-01,\n",
       "        1.900e-01, -1.200e-02, -2.890e-01, -1.500e-02, -7.800e-02,\n",
       "       -5.000e-02,  8.000e-03, -3.000e-02,  0.000e+00,  0.000e+00,\n",
       "        6.000e-03,  0.000e+00, -4.200e-02,  1.200e-01,  5.700e-02,\n",
       "       -3.590e-01, -2.000e-03,  0.000e+00,  1.000e-03, -4.000e-03,\n",
       "        6.100e-02, -7.000e-03, -1.000e-03, -3.000e-03, -2.020e-01,\n",
       "       -4.000e-03, -1.800e-01, -2.100e-02,  4.100e-01,  2.230e-01,\n",
       "       -1.200e-01,  1.180e-01,  1.780e-01, -1.600e-02, -4.000e-02,\n",
       "       -2.000e-02,  3.190e-01, -5.300e-02, -2.000e-03, -1.700e-02,\n",
       "       -2.800e-02, -1.300e-02, -3.800e-02, -2.400e-02, -6.600e-02,\n",
       "        4.180e-01,  4.310e-01,  1.750e-01,  6.900e-02,  0.000e+00,\n",
       "        0.000e+00,  0.000e+00, -2.480e-01,  2.000e-02,  4.290e-01,\n",
       "        1.750e-01, -5.000e-03, -1.000e-03, -4.680e-01, -6.200e-02,\n",
       "       -4.800e-02, -2.000e-02, -2.000e-03,  2.100e-02,  1.000e-02,\n",
       "        1.000e-03, -2.200e-02, -2.000e-03, -2.700e-02, -2.800e-02,\n",
       "       -1.930e-01, -7.000e-03, -3.300e-02,  4.960e-01,  1.100e-02,\n",
       "       -1.480e-01, -0.000e+00, -3.000e-03, -3.000e-03, -2.800e-02,\n",
       "        2.840e-01, -2.690e-01,  2.140e-01, -2.900e-02,  0.000e+00,\n",
       "       -2.000e-03,  2.400e-02, -0.000e+00, -1.190e-01, -7.000e-03,\n",
       "        6.000e-03,  0.000e+00, -1.000e-01, -2.000e-03, -3.000e-03,\n",
       "       -2.000e-03, -2.740e-01, -1.500e-02, -1.500e-02, -1.080e-01,\n",
       "       -4.760e-01, -1.000e-03,  5.500e-02,  9.000e-02, -7.000e-03,\n",
       "       -6.300e-02, -2.000e-01,  2.350e-01, -1.740e-01, -1.000e-03,\n",
       "       -2.000e-03, -0.000e+00,  1.000e-03, -1.400e-02,  4.700e-01,\n",
       "       -3.000e-02, -1.300e-02, -1.000e-03, -3.500e-02, -6.700e-02,\n",
       "        8.000e-02,  7.600e-02,  1.530e-01, -7.100e-02,  4.000e-03,\n",
       "       -1.170e-01,  3.310e-01,  4.100e-02, -1.600e-01, -1.100e-02,\n",
       "        1.560e-01,  3.660e-01,  4.600e-02,  1.420e-01,  0.000e+00,\n",
       "        0.000e+00,  0.000e+00, -2.500e-02, -1.150e-01, -1.520e-01,\n",
       "        1.000e-03, -4.000e-03, -2.200e-02,  4.500e-02, -6.000e-03,\n",
       "       -7.670e-01, -1.960e-01, -6.600e-02, -1.110e-01, -6.370e-01,\n",
       "       -6.000e-03, -1.900e-02, -3.000e-03,  0.000e+00, -1.400e-02,\n",
       "       -1.200e-02, -5.000e-03,  4.400e-02,  1.950e-01,  8.800e-02,\n",
       "       -1.500e-02, -4.000e-03, -7.180e-01, -7.150e-01, -5.000e-03,\n",
       "       -1.000e-03, -1.480e-01, -1.000e-03, -1.000e-03, -1.000e-03,\n",
       "       -3.000e-02, -4.070e-01, -4.000e-03, -3.700e-02,  4.710e-01,\n",
       "        0.000e+00,  1.000e-03,  0.000e+00,  0.000e+00,  0.000e+00,\n",
       "        0.000e+00,  0.000e+00, -1.000e-03,  4.700e-02, -3.800e-02,\n",
       "       -2.000e-03, -1.000e-03,  7.600e-02,  5.000e-03,  1.100e-01,\n",
       "       -2.000e-03, -2.300e-02, -2.170e-01, -1.100e-02, -1.000e-02,\n",
       "       -4.400e-02, -7.000e-03, -3.000e-03, -2.000e-03, -2.000e-03,\n",
       "       -1.100e-02, -8.000e-03, -1.000e-02,  2.000e-03,  0.000e+00,\n",
       "        8.000e-03,  3.780e-01, -5.300e-02, -1.700e-02,  0.000e+00,\n",
       "       -3.000e-03,  4.420e-01, -3.000e-03,  1.000e-03, -1.900e-02,\n",
       "        1.140e-01, -1.100e-02,  1.430e-01,  6.230e-01, -1.000e-03,\n",
       "       -3.000e-03, -4.000e-03,  8.140e-01, -2.000e-02, -2.400e-02,\n",
       "       -1.090e-01, -4.000e-03, -1.000e-03, -2.700e-02,  1.640e-01,\n",
       "       -4.200e-01, -6.140e-01, -2.000e-02, -1.120e-01, -3.180e-01,\n",
       "       -4.200e-02, -1.900e-02, -3.200e-02, -5.000e-03, -5.000e-03,\n",
       "       -3.000e-03, -1.200e-02, -3.000e-03, -1.500e-02,  4.590e-01,\n",
       "        4.070e-01, -3.700e-02, -5.300e-02, -2.400e-02,  1.480e-01,\n",
       "       -4.690e-01, -3.350e-01, -2.600e-02,  7.900e-02, -6.200e-02,\n",
       "       -9.200e-02,  1.700e-02,  2.300e-02,  1.500e-02,  1.700e-02,\n",
       "        1.030e-01, -2.900e-02, -3.300e-02, -1.000e-03,  9.900e-02,\n",
       "       -1.000e-02, -3.000e-03,  4.590e-01, -0.000e+00,  4.700e-01,\n",
       "        5.060e-01, -3.500e-02, -1.100e-02, -1.420e-01, -1.000e-03,\n",
       "       -9.100e-02, -1.900e-02,  3.820e-01, -7.000e-03, -3.900e-02,\n",
       "       -1.000e-02,  0.000e+00,  1.800e-02,  0.000e+00, -9.700e-02,\n",
       "       -4.000e-02,  2.270e-01,  9.400e-02,  7.000e-03, -0.000e+00,\n",
       "       -3.000e-03, -1.950e-01, -7.000e-03, -2.100e-02, -1.020e-01,\n",
       "       -1.120e-01,  0.000e+00, -1.900e-02, -2.400e-02, -7.000e-03,\n",
       "       -1.510e-01, -3.700e-02, -0.000e+00, -2.100e-02, -7.000e-03,\n",
       "       -2.500e-02, -2.540e-01, -6.600e-02, -3.900e-02,  1.590e-01,\n",
       "        1.030e-01, -4.010e-01,  1.100e-02, -5.000e-03, -0.000e+00,\n",
       "       -3.820e-01, -3.500e-01,  7.500e-02, -1.460e-01, -1.180e-01,\n",
       "       -4.000e-03, -8.000e-02, -1.220e-01,  1.160e-01,  1.800e-01,\n",
       "       -1.270e-01,  8.900e-02,  7.000e-03, -5.700e-02, -3.030e-01,\n",
       "        1.000e-03,  3.320e-01,  1.690e-01,  2.110e-01, -6.700e-02,\n",
       "        6.000e-02,  1.900e-02,  6.800e-02,  2.000e-03,  1.000e-03,\n",
       "       -1.260e-01, -1.830e-01,  4.600e-02,  2.560e-01, -4.000e-03,\n",
       "        1.000e-03, -5.720e-01,  5.800e-02,  0.000e+00,  0.000e+00,\n",
       "       -4.400e-02, -3.000e-03, -1.570e-01, -1.400e-01, -5.200e-02,\n",
       "        3.400e-02,  1.400e-02,  7.000e-03, -1.000e-02, -1.110e-01,\n",
       "       -1.700e-01, -2.000e-02, -5.000e-03,  1.210e-01, -9.200e-02,\n",
       "       -4.300e-02, -1.700e-02, -4.500e-02,  1.930e-01,  1.430e-01,\n",
       "       -0.000e+00,  0.000e+00, -5.100e-02, -4.500e-02, -1.420e-01,\n",
       "       -2.000e-03, -1.020e-01, -5.700e-02,  8.900e-02, -3.100e-02,\n",
       "       -6.800e-02,  1.800e-02,  3.000e-03, -2.500e-02, -1.520e-01,\n",
       "       -1.000e-03, -3.100e-02, -5.100e-02, -4.000e-03, -1.900e-02,\n",
       "       -9.000e-03, -3.000e-02, -2.100e-02,  8.200e-02, -1.490e-01,\n",
       "       -1.670e-01, -6.400e-02, -4.700e-02, -3.900e-02, -2.490e-01,\n",
       "       -4.600e-02, -0.000e+00,  9.000e-03, -5.200e-02,  0.000e+00,\n",
       "       -1.400e-02, -4.500e-02,  5.700e-02,  1.010e-01, -2.100e-02,\n",
       "       -1.270e-01,  7.000e-02,  9.200e-02,  2.000e-03, -1.000e-02,\n",
       "       -2.000e-03, -9.000e-03,  1.130e-01,  2.300e-02, -4.760e-01,\n",
       "       -1.400e-02, -7.700e-02, -5.000e-03,  1.900e-02, -6.000e-03,\n",
       "       -2.000e-03, -1.000e-03, -1.100e-02, -4.100e-02, -7.300e-02,\n",
       "       -5.000e-02,  3.000e-03, -0.000e+00,  1.010e-01, -6.000e-03,\n",
       "       -1.000e-03,  2.270e-01,  3.560e-01,  3.000e-02,  5.000e-03,\n",
       "       -1.000e-02,  3.010e-01,  4.400e-02,  6.000e-03,  2.470e-01,\n",
       "        0.000e+00,  8.000e-03,  0.000e+00,  0.000e+00,  6.150e-01,\n",
       "        3.900e-02, -1.340e-01,  1.140e-01, -1.190e-01,  2.100e-01,\n",
       "       -1.700e-02,  0.000e+00, -2.000e-02, -2.000e-03, -7.000e-03,\n",
       "       -0.000e+00, -6.600e-02, -1.000e-03,  1.350e-01, -4.220e-01,\n",
       "       -9.800e-02, -1.300e-02, -4.000e-03, -1.800e-02, -1.900e-02,\n",
       "       -5.300e-02, -6.600e-02, -1.090e-01, -3.000e-03, -2.940e-01,\n",
       "        0.000e+00, -8.000e-03, -7.000e-03, -2.000e-03, -9.000e-03,\n",
       "       -0.000e+00, -0.000e+00, -1.800e-02, -4.000e-03, -1.000e-03,\n",
       "        8.960e-01, -1.000e-03, -1.600e-02, -3.000e-03, -3.000e-02,\n",
       "       -1.100e-02, -4.600e-02,  1.000e-03,  2.570e-01,  2.410e-01,\n",
       "        0.000e+00, -5.790e-01, -8.500e-02,  4.280e-01, -1.000e-03,\n",
       "       -1.000e-03, -4.040e-01,  8.000e-02, -3.000e-03,  6.400e-02,\n",
       "       -1.300e-02, -2.900e-02, -9.000e-03, -1.400e-02, -7.500e-02,\n",
       "        3.680e-01, -0.000e+00, -2.180e-01, -3.500e-02, -1.550e-01,\n",
       "       -6.900e-02, -6.100e-02, -4.000e-03, -9.900e-02,  1.760e-01,\n",
       "        1.010e-01, -0.000e+00, -1.570e-01, -3.700e-02, -5.200e-02,\n",
       "        2.840e-01,  1.300e-02,  7.000e-03,  3.000e-03, -1.000e-03,\n",
       "       -2.110e-01, -0.000e+00, -6.000e-03, -5.000e-03, -3.100e-02,\n",
       "       -4.000e-03, -7.000e-03, -1.800e-02, -2.000e-03, -0.000e+00,\n",
       "       -1.000e-03, -0.000e+00,  1.200e-01, -1.890e-01, -9.700e-02,\n",
       "        4.200e-02,  3.960e-01,  2.220e-01,  1.200e-01,  4.230e-01,\n",
       "        2.430e-01,  3.050e-01,  1.600e-02, -4.800e-02, -4.180e-01,\n",
       "        1.030e-01,  5.200e-01,  5.900e-02,  2.200e-02,  4.900e-02,\n",
       "        4.800e-02,  2.980e-01, -7.000e-03,  4.000e-03, -4.000e-03,\n",
       "       -2.000e-03, -8.600e-02,  1.640e-01, -3.700e-02, -4.600e-02,\n",
       "        1.900e-01,  1.300e-01, -7.010e-01,  3.770e-01,  2.130e-01,\n",
       "        9.000e-03,  2.000e-03,  0.000e+00, -7.000e-03, -6.900e-02,\n",
       "       -1.300e-01,  1.920e-01,  1.200e-01,  7.200e-02, -1.800e-02,\n",
       "       -2.000e-02, -8.000e-03, -2.400e-02, -2.140e-01, -2.000e-03,\n",
       "       -0.000e+00, -3.000e-03, -6.270e-01, -3.000e-03, -0.000e+00,\n",
       "       -1.000e-02,  8.700e-02,  8.790e-01,  9.500e-02, -8.000e-03,\n",
       "        6.000e-03,  0.000e+00, -5.000e-03, -1.940e-01, -6.000e-03,\n",
       "       -8.000e-03, -3.000e-03,  0.000e+00,  9.000e-03, -1.700e-02,\n",
       "       -1.600e-02, -1.080e-01, -5.800e-02, -6.000e-03, -7.000e-03,\n",
       "        4.000e-03, -4.000e-03, -5.000e-03, -1.000e-03, -4.000e-03,\n",
       "        3.000e-03, -4.500e-02,  5.600e-02,  1.070e-01, -6.200e-02,\n",
       "        6.200e-02,  2.000e-03, -2.890e-01,  9.800e-02,  2.000e-03,\n",
       "       -3.400e-02,  0.000e+00,  1.400e-01,  2.500e-02, -3.800e-02,\n",
       "       -1.200e-01,  3.900e-02,  1.500e-02,  3.000e-03,  1.860e-01,\n",
       "        0.000e+00,  0.000e+00,  0.000e+00,  0.000e+00, -5.000e-03,\n",
       "        1.000e-02,  0.000e+00, -8.500e-02,  8.900e-02,  1.000e-03,\n",
       "       -1.100e-02, -1.600e-02, -2.000e-03, -5.000e-03, -0.000e+00,\n",
       "       -3.370e-01, -1.250e-01, -1.460e-01, -8.400e-02, -0.000e+00,\n",
       "       -1.080e-01, -8.300e-02, -1.400e-02, -2.000e-03,  2.730e-01,\n",
       "        1.550e-01, -1.000e-03,  4.000e-03,  0.000e+00, -3.000e-03,\n",
       "        6.210e-01,  4.260e-01, -2.260e-01,  2.160e-01, -1.260e-01,\n",
       "       -1.600e-02, -2.000e-03, -0.000e+00, -2.100e-02,  1.760e-01,\n",
       "        7.420e-01, -1.840e-01,  3.790e-01, -6.000e-03, -7.200e-02,\n",
       "       -1.520e-01, -4.800e-02, -1.700e-02, -2.000e-03, -4.270e-01,\n",
       "       -9.000e-03, -1.600e-02, -3.000e-03, -3.710e-01, -8.000e-03,\n",
       "       -0.000e+00, -9.800e-02, -2.000e-03,  3.100e-02, -1.000e-03,\n",
       "       -3.600e-02, -9.000e-03,  2.310e-01, -2.000e-03, -1.000e-03,\n",
       "       -1.000e-03, -2.000e-03, -0.000e+00, -9.000e-03, -2.000e-03,\n",
       "        1.890e-01, -1.230e-01, -1.560e-01, -6.000e-02,  1.610e-01,\n",
       "        6.000e-02, -2.200e-01,  4.120e-01,  2.020e-01, -1.600e-02,\n",
       "       -3.070e-01, -1.030e-01, -1.000e-03, -0.000e+00, -1.250e-01,\n",
       "       -4.300e-02, -2.240e-01, -5.000e-03, -9.600e-02, -3.800e-01,\n",
       "       -3.000e-03, -4.800e-02,  7.320e-01,  2.400e-02,  5.510e-01,\n",
       "       -9.900e-02, -4.000e-03, -8.720e-01, -1.740e-01, -8.000e-03,\n",
       "       -3.600e-02,  2.480e-01, -8.100e-02, -1.900e-02, -7.800e-02,\n",
       "       -1.590e-01, -1.600e-02, -3.000e-03, -4.400e-02, -8.630e-01,\n",
       "       -3.900e-02, -5.800e-02,  8.000e-03,  3.000e-03,  0.000e+00,\n",
       "       -1.400e-02, -1.060e-01, -1.300e-01,  3.480e-01, -2.900e-02,\n",
       "        1.410e-01, -0.000e+00, -0.000e+00, -2.000e-03,  0.000e+00,\n",
       "       -0.000e+00, -3.400e-02, -1.200e-02, -2.540e-01, -1.370e-01,\n",
       "       -9.100e-02, -5.000e-03, -5.000e-03, -4.000e-03,  0.000e+00,\n",
       "       -1.000e-03, -3.000e-03,  1.000e-03,  0.000e+00, -4.000e-03,\n",
       "       -7.000e-03, -2.240e-01, -1.800e-02, -3.000e-03,  0.000e+00,\n",
       "       -0.000e+00, -3.320e-01,  1.400e-01,  1.940e-01,  1.470e-01,\n",
       "        0.000e+00,  2.400e-02,  0.000e+00, -7.000e-03,  3.890e-01,\n",
       "        2.880e-01,  4.130e-01, -2.000e-03, -5.000e-03, -3.800e-02,\n",
       "       -4.610e-01,  5.100e-02,  1.000e-03, -1.000e-03,  2.900e-02,\n",
       "        3.430e-01, -2.400e-02, -1.380e-01, -4.000e-03, -0.000e+00,\n",
       "        1.170e-01, -1.200e-02,  1.100e-01,  1.830e-01, -8.800e-02,\n",
       "        1.110e-01,  1.280e-01,  5.000e-03,  3.290e-01,  4.260e-01,\n",
       "        1.190e-01, -2.220e-01, -7.000e-02,  1.000e-03, -3.000e-03,\n",
       "       -1.000e-03, -2.400e-02, -1.000e-03, -7.000e-03, -2.000e-03,\n",
       "        1.180e-01,  2.350e-01,  1.700e-01, -5.140e-01, -5.900e-02,\n",
       "       -7.400e-01,  2.320e-01, -9.570e-01,  9.870e-01, -4.100e-02,\n",
       "       -1.420e-01,  1.700e+00,  2.390e-01, -4.000e-02,  4.160e-01,\n",
       "       -1.165e+00,  4.170e-01, -2.000e-02, -1.149e+00, -7.000e-03,\n",
       "        2.200e-01, -6.000e-03])"
      ]
     },
     "execution_count": 381,
     "metadata": {},
     "output_type": "execute_result"
    }
   ],
   "source": [
    "model.coef_[0].round(3)"
   ]
  },
  {
   "cell_type": "code",
   "execution_count": 382,
   "id": "1b22c5a4",
   "metadata": {},
   "outputs": [
    {
     "data": {
      "text/plain": [
       "array([0.00682842, 0.99140752, 0.00288249, ..., 0.09552365, 0.16896004,\n",
       "       0.09710876])"
      ]
     },
     "execution_count": 382,
     "metadata": {},
     "output_type": "execute_result"
    }
   ],
   "source": [
    "model.predict_proba(X_val)[:,1]"
   ]
  },
  {
   "cell_type": "code",
   "execution_count": 383,
   "id": "3c986591",
   "metadata": {},
   "outputs": [],
   "source": [
    "all_features_accuracy = model.score(X_val,y_val)"
   ]
  },
  {
   "cell_type": "code",
   "execution_count": 384,
   "id": "558c98f4",
   "metadata": {},
   "outputs": [
    {
     "data": {
      "text/plain": [
       "(862, 856)"
      ]
     },
     "execution_count": 384,
     "metadata": {},
     "output_type": "execute_result"
    }
   ],
   "source": [
    "#y_val == y_val_pred).astype(int)\n",
    "y_val.sum(),y_val_pred.sum()"
   ]
  },
  {
   "cell_type": "code",
   "execution_count": 385,
   "id": "6a0d135e",
   "metadata": {},
   "outputs": [
    {
     "data": {
      "text/plain": [
       "0.92"
      ]
     },
     "execution_count": 385,
     "metadata": {},
     "output_type": "execute_result"
    }
   ],
   "source": [
    "(y_val == y_val_pred).mean().round(2)"
   ]
  },
  {
   "cell_type": "code",
   "execution_count": null,
   "id": "b05ab986",
   "metadata": {},
   "outputs": [],
   "source": []
  },
  {
   "cell_type": "code",
   "execution_count": 386,
   "id": "52199dcc",
   "metadata": {},
   "outputs": [
    {
     "name": "stdout",
     "output_type": "stream",
     "text": [
      "make:-0.0168\n",
      "model:0.0051\n",
      "year:-0.0242\n",
      "engine_hp:0.0013\n",
      "engine_cylinders:-0.0223\n",
      "transmission_type:-0.013\n",
      "vehicle_style:-0.0111\n",
      "highway_mpg:-0.0159\n",
      "city_mpg:-0.0156\n"
     ]
    }
   ],
   "source": [
    "differences = dict()\n",
    "total_features = selected_columns\n",
    "for feature in total_features:\n",
    "    #print(feature)\n",
    "    \n",
    "    df_train_copy = df_train[selected_columns].copy()\n",
    "    del df_train_copy[feature]\n",
    "    \n",
    "    df_val_copy = df_val[selected_columns].copy()\n",
    "    del df_val_copy[feature]\n",
    "    \n",
    "    dv = DictVectorizer(sparse=False)\n",
    "    train_dict = df_train_copy.to_dict(orient='records')\n",
    "    X_train = dv.fit_transform(train_dict)\n",
    "\n",
    "    val_dict = df_val_copy.to_dict(orient='records')\n",
    "    X_val = dv.transform(val_dict)\n",
    "    \n",
    "    #print(dv.get_feature_names())\n",
    "    model = LogisticRegression(solver='liblinear', C=1.0, random_state=42)\n",
    "    model.fit(X_train, y_train)\n",
    "    \n",
    "    #y_pred = model.predict_proba(X_val)[:, 1]\n",
    "    #above_average_decision = (y_pred >= 0.5)\n",
    "    #no_feature_accuracy = (above_average_val == above_average_decision).mean()\n",
    "    no_feature_accuracy = model.score(X_val, y_val)\n",
    "    differences[feature] = round(all_features_accuracy - no_feature_accuracy, 4)\n",
    "    \n",
    "for key, value in differences.items():\n",
    "    print(f\"{key}:{value}\")"
   ]
  },
  {
   "cell_type": "markdown",
   "id": "2bf90c90",
   "metadata": {},
   "source": [
    "### Answer 5 engine_hp :0.0013"
   ]
  },
  {
   "cell_type": "code",
   "execution_count": 387,
   "id": "08adc710",
   "metadata": {},
   "outputs": [],
   "source": [
    "def rmse(y, y_pred):\n",
    "    se = (y - y_pred) ** 2\n",
    "    mse = se.mean()\n",
    "    return np.sqrt(mse)"
   ]
  },
  {
   "cell_type": "code",
   "execution_count": 388,
   "id": "0cd64625",
   "metadata": {},
   "outputs": [],
   "source": [
    "y_train = np.log1p(y_train)\n",
    "y_val = np.log1p(y_val)\n",
    "y_test = np.log1p(y_test)"
   ]
  },
  {
   "cell_type": "code",
   "execution_count": 389,
   "id": "e2749cca",
   "metadata": {},
   "outputs": [],
   "source": [
    "dv = DictVectorizer(sparse=False)\n",
    "train_dict = df_train.to_dict(orient='records')\n",
    "X_train = dv.fit_transform(train_dict)\n",
    "val_dict = df_val.to_dict(orient='records')\n",
    "X_val = dv.transform(val_dict)"
   ]
  },
  {
   "cell_type": "code",
   "execution_count": 390,
   "id": "38264753",
   "metadata": {},
   "outputs": [],
   "source": [
    "from sklearn.linear_model import Ridge"
   ]
  },
  {
   "cell_type": "code",
   "execution_count": 391,
   "id": "80c3ddeb",
   "metadata": {},
   "outputs": [
    {
     "name": "stdout",
     "output_type": "stream",
     "text": [
      "[ANSWER-6] Best RMSE is 0.146 for r value: 0.1\n"
     ]
    }
   ],
   "source": [
    "results = dict()\n",
    "best_rmse = None\n",
    "best_rmse_arg = None\n",
    "\n",
    "for a in [0, 0.01, 0.1, 1, 10]:\n",
    "    model = Ridge(alpha=a)\n",
    "    model.fit(X_train, y_train)\n",
    "    y_pred = model.predict(X_val)\n",
    "    raw_rmse = rmse(y_val, y_pred)\n",
    "    if best_rmse is None:\n",
    "        best_rmse = raw_rmse\n",
    "        best_rmse_arg = a\n",
    "    elif raw_rmse < best_rmse:\n",
    "        best_rmse = raw_rmse\n",
    "        best_rmse_arg = a\n",
    "    results[a] = round(raw_rmse, 3)\n",
    "\n",
    "print(f\"[ANSWER-6] Best RMSE is {round(best_rmse, 3)} for r value: {best_rmse_arg}\")"
   ]
  }
 ],
 "metadata": {
  "kernelspec": {
   "display_name": "Python 3 (ipykernel)",
   "language": "python",
   "name": "python3"
  },
  "language_info": {
   "codemirror_mode": {
    "name": "ipython",
    "version": 3
   },
   "file_extension": ".py",
   "mimetype": "text/x-python",
   "name": "python",
   "nbconvert_exporter": "python",
   "pygments_lexer": "ipython3",
   "version": "3.11.4"
  }
 },
 "nbformat": 4,
 "nbformat_minor": 5
}
